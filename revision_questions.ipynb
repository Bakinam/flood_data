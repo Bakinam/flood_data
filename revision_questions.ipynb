{
 "cells": [
  {
   "cell_type": "markdown",
   "metadata": {},
   "source": [
    "## Intro"
   ]
  },
  {
   "cell_type": "markdown",
   "metadata": {},
   "source": [
    "There are a couple comments from the reviewers that I want to clear up in this notebook:\n",
    "\n",
    "1. How sensitive are the RF results to different parameter values such as number of trees? (from reviewer 1)\n",
    "2. Why not just use rainfall as a proxy for flood severity? Why go to all the work of building these more complex model if most of the information just comes from the rainfall?\n",
    "3. Not what the reviewers asked for but for my own peace of mind, are the two models being tested on the same data?"
   ]
  },
  {
   "cell_type": "code",
   "execution_count": 1,
   "metadata": {
    "collapsed": true
   },
   "outputs": [],
   "source": [
    "%matplotlib inline\n",
    "\n",
    "from hr_db_scripts.main_db_script import get_db_table_as_df\n",
    "from db_scripts.main_db_script import db_filename\n",
    "from results import make_results_df\n",
    "import pandas as pd"
   ]
  },
  {
   "cell_type": "code",
   "execution_count": 2,
   "metadata": {
    "collapsed": true
   },
   "outputs": [],
   "source": [
    "def get_tables(table_suffix):\n",
    "\n",
    "\n",
    "    rf_trn_tbl = 'rf{}train'.format(table_suffix)\n",
    "    rf_tst_tbl = 'rf{}test'.format(table_suffix)\n",
    "    ps_trn_tbl = 'poisson{}train'.format(table_suffix)\n",
    "    ps_tst_tbl = 'poisson{}test'.format(table_suffix)\n",
    "\n",
    "    rf_trn = get_db_table_as_df(rf_trn_tbl, dbfilename=db_filename)\n",
    "    rf_tst = get_db_table_as_df(rf_tst_tbl, dbfilename=db_filename)\n",
    "    ps_trn = get_db_table_as_df(ps_trn_tbl, dbfilename=db_filename)\n",
    "    ps_tst = get_db_table_as_df(ps_tst_tbl, dbfilename=db_filename)\n",
    "    return {'rf_trn': rf_trn, 'rf_tst': rf_tst, 'ps_trn': ps_trn, 'ps_tst': ps_tst}"
   ]
  },
  {
   "cell_type": "markdown",
   "metadata": {},
   "source": [
    "### Question 3: are the models being tested on the same data?"
   ]
  },
  {
   "cell_type": "code",
   "execution_count": 3,
   "metadata": {
    "collapsed": false
   },
   "outputs": [],
   "source": [
    "suffix = '_revisions_'\n",
    "tables = get_tables(suffix)"
   ]
  },
  {
   "cell_type": "code",
   "execution_count": 4,
   "metadata": {
    "collapsed": false
   },
   "outputs": [
    {
     "data": {
      "text/plain": [
       "2541"
      ]
     },
     "execution_count": 4,
     "metadata": {},
     "output_type": "execute_result"
    }
   ],
   "source": [
    "(tables['rf_trn']['all_trn'] != tables['ps_trn']['all_trn']).sum()"
   ]
  },
  {
   "cell_type": "code",
   "execution_count": 5,
   "metadata": {
    "collapsed": false
   },
   "outputs": [
    {
     "data": {
      "text/plain": [
       "1255"
      ]
     },
     "execution_count": 5,
     "metadata": {},
     "output_type": "execute_result"
    }
   ],
   "source": [
    "(tables['rf_tst']['all_tst'] != tables['ps_tst']['all_tst']).sum()"
   ]
  },
  {
   "cell_type": "markdown",
   "metadata": {},
   "source": [
    "It looks like they weren't the same... Now we need to see how that affects the results"
   ]
  },
  {
   "cell_type": "markdown",
   "metadata": {},
   "source": [
    "### Now the code has been refactored so they are the same"
   ]
  },
  {
   "cell_type": "code",
   "execution_count": 6,
   "metadata": {
    "collapsed": true
   },
   "outputs": [],
   "source": [
    "suffix = '_revisions1_'\n",
    "tables1 = get_tables(suffix)"
   ]
  },
  {
   "cell_type": "code",
   "execution_count": 7,
   "metadata": {
    "collapsed": false
   },
   "outputs": [
    {
     "data": {
      "text/plain": [
       "0"
      ]
     },
     "execution_count": 7,
     "metadata": {},
     "output_type": "execute_result"
    }
   ],
   "source": [
    "(tables1['rf_trn']['all_trn'] != tables1['ps_trn']['all_trn']).sum()"
   ]
  },
  {
   "cell_type": "code",
   "execution_count": 8,
   "metadata": {
    "collapsed": false
   },
   "outputs": [
    {
     "data": {
      "text/plain": [
       "0"
      ]
     },
     "execution_count": 8,
     "metadata": {},
     "output_type": "execute_result"
    }
   ],
   "source": [
    "(tables1['rf_tst']['all_tst'] != tables1['ps_tst']['all_tst']).sum()"
   ]
  },
  {
   "cell_type": "markdown",
   "metadata": {},
   "source": [
    "### Question: do the results differ with the restructuring of the code?"
   ]
  },
  {
   "cell_type": "code",
   "execution_count": 9,
   "metadata": {
    "collapsed": false
   },
   "outputs": [
    {
     "data": {
      "text/plain": [
       "0"
      ]
     },
     "execution_count": 9,
     "metadata": {},
     "output_type": "execute_result"
    }
   ],
   "source": [
    "(tables1['rf_trn']['all_trn'] != tables['rf_trn']['all_trn']).sum()"
   ]
  },
  {
   "cell_type": "code",
   "execution_count": 10,
   "metadata": {
    "collapsed": false
   },
   "outputs": [
    {
     "data": {
      "text/plain": [
       "0"
      ]
     },
     "execution_count": 10,
     "metadata": {},
     "output_type": "execute_result"
    }
   ],
   "source": [
    "(tables1['rf_trn']['all_pred_trn'] != tables['rf_trn']['all_pred_trn']).sum()"
   ]
  },
  {
   "cell_type": "code",
   "execution_count": 11,
   "metadata": {
    "collapsed": false
   },
   "outputs": [
    {
     "data": {
      "text/plain": [
       "0"
      ]
     },
     "execution_count": 11,
     "metadata": {},
     "output_type": "execute_result"
    }
   ],
   "source": [
    "(tables1['rf_tst']['all_tst'] != tables['rf_tst']['all_tst']).sum()"
   ]
  },
  {
   "cell_type": "code",
   "execution_count": 12,
   "metadata": {
    "collapsed": false
   },
   "outputs": [
    {
     "data": {
      "text/plain": [
       "2541"
      ]
     },
     "execution_count": 12,
     "metadata": {},
     "output_type": "execute_result"
    }
   ],
   "source": [
    "(tables1['ps_trn']['all_trn'] != tables['ps_trn']['all_trn']).sum()"
   ]
  },
  {
   "cell_type": "code",
   "execution_count": 13,
   "metadata": {
    "collapsed": false
   },
   "outputs": [
    {
     "data": {
      "text/plain": [
       "1255"
      ]
     },
     "execution_count": 13,
     "metadata": {},
     "output_type": "execute_result"
    }
   ],
   "source": [
    "(tables1['ps_tst']['all_tst'] != tables['ps_tst']['all_tst']).sum()"
   ]
  },
  {
   "cell_type": "markdown",
   "metadata": {},
   "source": [
    "So now they are all the same"
   ]
  },
  {
   "cell_type": "markdown",
   "metadata": {},
   "source": [
    "### Question #1 sensitivity to number of trees"
   ]
  },
  {
   "cell_type": "code",
   "execution_count": 14,
   "metadata": {
    "collapsed": true
   },
   "outputs": [],
   "source": [
    "trees = [2, 5, 10, 17, 25, 35, 50, 100, 250, 350, 500, 650, 750, 1000, 2000]"
   ]
  },
  {
   "cell_type": "code",
   "execution_count": 15,
   "metadata": {
    "collapsed": true
   },
   "outputs": [],
   "source": [
    "tables = {}"
   ]
  },
  {
   "cell_type": "code",
   "execution_count": 16,
   "metadata": {
    "collapsed": true
   },
   "outputs": [],
   "source": [
    "for t in trees:\n",
    "    tables[t] = 'rf_{}'.format(t)\n",
    "tables[500] = 'revisions1'"
   ]
  },
  {
   "cell_type": "code",
   "execution_count": 17,
   "metadata": {
    "collapsed": false
   },
   "outputs": [
    {
     "name": "stdout",
     "output_type": "stream",
     "text": [
      "rf train rf_rf_2_train\n",
      "rf test rf_rf_2_test\n",
      "rf train rf_rf_35_train\n",
      "rf test rf_rf_35_test\n",
      "rf train rf_rf_100_train\n",
      "rf test rf_rf_100_test\n",
      "rf train rf_rf_5_train\n",
      "rf test rf_rf_5_test\n",
      "rf train rf_rf_1000_train\n",
      "rf test rf_rf_1000_test\n",
      "rf train rf_rf_10_train\n",
      "rf test rf_rf_10_test\n",
      "rf train rf_rf_750_train\n",
      "rf test rf_rf_750_test\n",
      "rf train rf_rf_2000_train\n",
      "rf test rf_rf_2000_test\n",
      "rf train rf_rf_17_train\n",
      "rf test rf_rf_17_test\n",
      "rf train rf_rf_50_train\n",
      "rf test rf_rf_50_test\n",
      "rf train rf_revisions1_train\n",
      "rf test rf_revisions1_test\n",
      "rf train rf_rf_25_train\n",
      "rf test rf_rf_25_test\n",
      "rf train rf_rf_250_train\n",
      "rf test rf_rf_250_test\n",
      "rf train rf_rf_650_train\n",
      "rf test rf_rf_650_test\n",
      "rf train rf_rf_350_train\n",
      "rf test rf_rf_350_test\n"
     ]
    }
   ],
   "source": [
    "dfs = []\n",
    "for t in tables:\n",
    "    df = make_results_df(models=['rf'], suffix=tables[t])\n",
    "    df.index = [t]\n",
    "    dfs.append(df)\n",
    "df_comb = pd.concat(dfs)"
   ]
  },
  {
   "cell_type": "code",
   "execution_count": 18,
   "metadata": {
    "collapsed": false
   },
   "outputs": [
    {
     "data": {
      "text/plain": [
       "<matplotlib.text.Text at 0xe3e9550>"
      ]
     },
     "execution_count": 18,
     "metadata": {},
     "output_type": "execute_result"
    },
    {
     "data": {
      "image/png": "[encoded data removed]",
      "text/plain": [
       "<matplotlib.figure.Figure at 0xe3e97b8>"
      ]
     },
     "metadata": {},
     "output_type": "display_data"
    }
   ],
   "source": [
    "df_comb.sort_index(inplace=True)\n",
    "ax = df_comb.plot(style=\"o-\", figsize = (9,7), logx=True, grid=True)\n",
    "ax.legend(bbox_to_anchor=(1, 0.5))\n",
    "ax.set_xlabel('Number of trees')\n"
   ]
  },
  {
   "cell_type": "code",
   "execution_count": 19,
   "metadata": {
    "collapsed": false
   },
   "outputs": [
    {
     "data": {
      "text/plain": [
       "<matplotlib.text.Text at 0xeeb3470>"
      ]
     },
     "execution_count": 19,
     "metadata": {},
     "output_type": "execute_result"
    },
    {
     "data": {
      "image/png": "[encoded data removed]",
      "text/plain": [
       "<matplotlib.figure.Figure at 0xddf5a20>"
      ]
     },
     "metadata": {},
     "output_type": "display_data"
    }
   ],
   "source": [
    "ax = df_comb.rolling(5).mean().plot(style='o-', logx=True)\n",
    "ax.legend(bbox_to_anchor=(1, 0.5))\n",
    "ax.set_xlabel('Number of trees')"
   ]
  },
  {
   "cell_type": "markdown",
   "metadata": {},
   "source": [
    "### Question #2 what if only rainfall"
   ]
  },
  {
   "cell_type": "code",
   "execution_count": 81,
   "metadata": {
    "collapsed": true
   },
   "outputs": [],
   "source": [
    "suffixes = ['revisions1', 'only_rd', 'only_rain', 'no_rd', 'no_tides', 'top_5', 'top_2', 'revisions2', 'revisions2_no_tide']"
   ]
  },
  {
   "cell_type": "code",
   "execution_count": 82,
   "metadata": {
    "collapsed": false,
    "scrolled": true
   },
   "outputs": [
    {
     "name": "stdout",
     "output_type": "stream",
     "text": [
      "poisson train poisson_revisions1_train\n",
      "poisson test poisson_revisions1_test\n",
      "rf train rf_revisions1_train\n",
      "rf test rf_revisions1_test\n",
      "poisson train poisson_only_rd_train\n",
      "poisson test poisson_only_rd_test\n",
      "rf train rf_only_rd_train\n",
      "rf test rf_only_rd_test\n",
      "poisson train poisson_only_rain_train\n",
      "poisson test poisson_only_rain_test\n",
      "rf train rf_only_rain_train\n",
      "rf test rf_only_rain_test\n",
      "poisson train poisson_no_rd_train\n",
      "poisson test poisson_no_rd_test\n",
      "rf train rf_no_rd_train\n",
      "rf test rf_no_rd_test\n",
      "poisson train poisson_no_tides_train\n",
      "poisson test poisson_no_tides_test\n",
      "rf train rf_no_tides_train\n",
      "rf test rf_no_tides_test\n",
      "poisson train poisson_top_5_train\n",
      "poisson test poisson_top_5_test\n",
      "rf train rf_top_5_train\n",
      "rf test rf_top_5_test\n",
      "poisson train poisson_top_2_train\n",
      "poisson test poisson_top_2_test\n",
      "rf train rf_top_2_train\n",
      "rf test rf_top_2_test\n",
      "poisson train poisson_revisions2_train\n",
      "poisson test poisson_revisions2_test\n",
      "rf train rf_revisions2_train\n",
      "rf test rf_revisions2_test\n",
      "poisson train poisson_revisions2_no_tide_train\n",
      "poisson test poisson_revisions2_no_tide_test\n",
      "rf train rf_revisions2_no_tide_train\n",
      "rf test rf_revisions2_no_tide_test\n"
     ]
    }
   ],
   "source": [
    "dfs = []\n",
    "for s in suffixes:\n",
    "    df = make_results_df(suffix=s)\n",
    "    dfs.append(df)\n",
    "    df.index = [\"{}_{}\".format(i, s) for i in df.index]\n",
    "df_vars = pd.concat(dfs)\n",
    "\n",
    "    "
   ]
  },
  {
   "cell_type": "code",
   "execution_count": 83,
   "metadata": {
    "collapsed": false
   },
   "outputs": [
    {
     "data": {
      "text/html": [
       "<div>\n",
       "<style>\n",
       "    .dataframe thead tr:only-child th {\n",
       "        text-align: right;\n",
       "    }\n",
       "\n",
       "    .dataframe thead th {\n",
       "        text-align: left;\n",
       "    }\n",
       "\n",
       "    .dataframe tbody tr th {\n",
       "        vertical-align: top;\n",
       "    }\n",
       "</style>\n",
       "<table border=\"1\" class=\"dataframe\">\n",
       "  <thead>\n",
       "    <tr style=\"text-align: right;\">\n",
       "      <th></th>\n",
       "      <th>RMSE-Training</th>\n",
       "      <th>RMSE-Evaluation</th>\n",
       "      <th>MAE-Training</th>\n",
       "      <th>MAE-Evaluation</th>\n",
       "      <th>std-Training</th>\n",
       "      <th>std-Evaluation</th>\n",
       "    </tr>\n",
       "  </thead>\n",
       "  <tbody>\n",
       "    <tr>\n",
       "      <th>poisson_revisions1</th>\n",
       "      <td>9.95</td>\n",
       "      <td>29.36</td>\n",
       "      <td>6.36</td>\n",
       "      <td>15.90</td>\n",
       "      <td>5.26</td>\n",
       "      <td>17.66</td>\n",
       "    </tr>\n",
       "    <tr>\n",
       "      <th>rf_revisions1</th>\n",
       "      <td>9.79</td>\n",
       "      <td>21.41</td>\n",
       "      <td>5.38</td>\n",
       "      <td>12.29</td>\n",
       "      <td>2.55</td>\n",
       "      <td>4.70</td>\n",
       "    </tr>\n",
       "    <tr>\n",
       "      <th>poisson_only_rd</th>\n",
       "      <td>32.06</td>\n",
       "      <td>30.48</td>\n",
       "      <td>17.14</td>\n",
       "      <td>16.10</td>\n",
       "      <td>4.35</td>\n",
       "      <td>3.48</td>\n",
       "    </tr>\n",
       "    <tr>\n",
       "      <th>rf_only_rd</th>\n",
       "      <td>9.36</td>\n",
       "      <td>17.82</td>\n",
       "      <td>5.60</td>\n",
       "      <td>10.73</td>\n",
       "      <td>2.99</td>\n",
       "      <td>6.02</td>\n",
       "    </tr>\n",
       "    <tr>\n",
       "      <th>poisson_only_rain</th>\n",
       "      <td>29.00</td>\n",
       "      <td>32.01</td>\n",
       "      <td>14.19</td>\n",
       "      <td>15.61</td>\n",
       "      <td>7.65</td>\n",
       "      <td>7.86</td>\n",
       "    </tr>\n",
       "    <tr>\n",
       "      <th>rf_only_rain</th>\n",
       "      <td>12.21</td>\n",
       "      <td>26.83</td>\n",
       "      <td>6.72</td>\n",
       "      <td>14.09</td>\n",
       "      <td>2.37</td>\n",
       "      <td>4.62</td>\n",
       "    </tr>\n",
       "    <tr>\n",
       "      <th>poisson_no_rd</th>\n",
       "      <td>9.97</td>\n",
       "      <td>30.08</td>\n",
       "      <td>6.52</td>\n",
       "      <td>15.98</td>\n",
       "      <td>5.23</td>\n",
       "      <td>18.38</td>\n",
       "    </tr>\n",
       "    <tr>\n",
       "      <th>rf_no_rd</th>\n",
       "      <td>12.94</td>\n",
       "      <td>27.77</td>\n",
       "      <td>6.95</td>\n",
       "      <td>14.86</td>\n",
       "      <td>3.03</td>\n",
       "      <td>5.67</td>\n",
       "    </tr>\n",
       "    <tr>\n",
       "      <th>poisson_no_tides</th>\n",
       "      <td>12.55</td>\n",
       "      <td>37.14</td>\n",
       "      <td>8.17</td>\n",
       "      <td>18.93</td>\n",
       "      <td>6.63</td>\n",
       "      <td>12.81</td>\n",
       "    </tr>\n",
       "    <tr>\n",
       "      <th>rf_no_tides</th>\n",
       "      <td>10.85</td>\n",
       "      <td>24.95</td>\n",
       "      <td>5.91</td>\n",
       "      <td>13.84</td>\n",
       "      <td>2.60</td>\n",
       "      <td>4.81</td>\n",
       "    </tr>\n",
       "    <tr>\n",
       "      <th>poisson_top_5</th>\n",
       "      <td>18.42</td>\n",
       "      <td>26.97</td>\n",
       "      <td>10.61</td>\n",
       "      <td>14.87</td>\n",
       "      <td>7.19</td>\n",
       "      <td>9.31</td>\n",
       "    </tr>\n",
       "    <tr>\n",
       "      <th>rf_top_5</th>\n",
       "      <td>10.04</td>\n",
       "      <td>20.49</td>\n",
       "      <td>5.58</td>\n",
       "      <td>11.79</td>\n",
       "      <td>2.53</td>\n",
       "      <td>5.36</td>\n",
       "    </tr>\n",
       "    <tr>\n",
       "      <th>poisson_top_2</th>\n",
       "      <td>22.33</td>\n",
       "      <td>29.03</td>\n",
       "      <td>13.30</td>\n",
       "      <td>16.13</td>\n",
       "      <td>5.59</td>\n",
       "      <td>6.54</td>\n",
       "    </tr>\n",
       "    <tr>\n",
       "      <th>rf_top_2</th>\n",
       "      <td>7.68</td>\n",
       "      <td>17.81</td>\n",
       "      <td>4.35</td>\n",
       "      <td>10.58</td>\n",
       "      <td>2.79</td>\n",
       "      <td>5.52</td>\n",
       "    </tr>\n",
       "    <tr>\n",
       "      <th>poisson_revisions2</th>\n",
       "      <td>10.06</td>\n",
       "      <td>29.81</td>\n",
       "      <td>6.56</td>\n",
       "      <td>16.34</td>\n",
       "      <td>5.18</td>\n",
       "      <td>19.11</td>\n",
       "    </tr>\n",
       "    <tr>\n",
       "      <th>rf_revisions2</th>\n",
       "      <td>8.04</td>\n",
       "      <td>16.55</td>\n",
       "      <td>4.41</td>\n",
       "      <td>9.83</td>\n",
       "      <td>3.17</td>\n",
       "      <td>6.21</td>\n",
       "    </tr>\n",
       "    <tr>\n",
       "      <th>poisson_revisions2_no_tide</th>\n",
       "      <td>15.14</td>\n",
       "      <td>33.98</td>\n",
       "      <td>9.52</td>\n",
       "      <td>16.64</td>\n",
       "      <td>7.79</td>\n",
       "      <td>11.98</td>\n",
       "    </tr>\n",
       "    <tr>\n",
       "      <th>rf_revisions2_no_tide</th>\n",
       "      <td>8.28</td>\n",
       "      <td>17.21</td>\n",
       "      <td>4.87</td>\n",
       "      <td>10.07</td>\n",
       "      <td>3.17</td>\n",
       "      <td>6.41</td>\n",
       "    </tr>\n",
       "  </tbody>\n",
       "</table>\n",
       "</div>"
      ],
      "text/plain": [
       "                            RMSE-Training  RMSE-Evaluation  MAE-Training  \\\n",
       "poisson_revisions1                   9.95            29.36          6.36   \n",
       "rf_revisions1                        9.79            21.41          5.38   \n",
       "poisson_only_rd                     32.06            30.48         17.14   \n",
       "rf_only_rd                           9.36            17.82          5.60   \n",
       "poisson_only_rain                   29.00            32.01         14.19   \n",
       "rf_only_rain                        12.21            26.83          6.72   \n",
       "poisson_no_rd                        9.97            30.08          6.52   \n",
       "rf_no_rd                            12.94            27.77          6.95   \n",
       "poisson_no_tides                    12.55            37.14          8.17   \n",
       "rf_no_tides                         10.85            24.95          5.91   \n",
       "poisson_top_5                       18.42            26.97         10.61   \n",
       "rf_top_5                            10.04            20.49          5.58   \n",
       "poisson_top_2                       22.33            29.03         13.30   \n",
       "rf_top_2                             7.68            17.81          4.35   \n",
       "poisson_revisions2                  10.06            29.81          6.56   \n",
       "rf_revisions2                        8.04            16.55          4.41   \n",
       "poisson_revisions2_no_tide          15.14            33.98          9.52   \n",
       "rf_revisions2_no_tide                8.28            17.21          4.87   \n",
       "\n",
       "                            MAE-Evaluation  std-Training  std-Evaluation  \n",
       "poisson_revisions1                   15.90          5.26           17.66  \n",
       "rf_revisions1                        12.29          2.55            4.70  \n",
       "poisson_only_rd                      16.10          4.35            3.48  \n",
       "rf_only_rd                           10.73          2.99            6.02  \n",
       "poisson_only_rain                    15.61          7.65            7.86  \n",
       "rf_only_rain                         14.09          2.37            4.62  \n",
       "poisson_no_rd                        15.98          5.23           18.38  \n",
       "rf_no_rd                             14.86          3.03            5.67  \n",
       "poisson_no_tides                     18.93          6.63           12.81  \n",
       "rf_no_tides                          13.84          2.60            4.81  \n",
       "poisson_top_5                        14.87          7.19            9.31  \n",
       "rf_top_5                             11.79          2.53            5.36  \n",
       "poisson_top_2                        16.13          5.59            6.54  \n",
       "rf_top_2                             10.58          2.79            5.52  \n",
       "poisson_revisions2                   16.34          5.18           19.11  \n",
       "rf_revisions2                         9.83          3.17            6.21  \n",
       "poisson_revisions2_no_tide           16.64          7.79           11.98  \n",
       "rf_revisions2_no_tide                10.07          3.17            6.41  "
      ]
     },
     "execution_count": 83,
     "metadata": {},
     "output_type": "execute_result"
    }
   ],
   "source": [
    "df_vars"
   ]
  },
  {
   "cell_type": "code",
   "execution_count": 23,
   "metadata": {
    "collapsed": false
   },
   "outputs": [
    {
     "data": {
      "text/plain": [
       "0.16767865483418962"
      ]
     },
     "execution_count": 23,
     "metadata": {},
     "output_type": "execute_result"
    }
   ],
   "source": [
    "(21.41-17.82)/21.41"
   ]
  },
  {
   "cell_type": "code",
   "execution_count": 24,
   "metadata": {
    "collapsed": false
   },
   "outputs": [
    {
     "data": {
      "text/plain": [
       "0.042970574497898255"
      ]
     },
     "execution_count": 24,
     "metadata": {},
     "output_type": "execute_result"
    }
   ],
   "source": [
    "(21.41-20.49)/21.41"
   ]
  },
  {
   "cell_type": "code",
   "execution_count": 25,
   "metadata": {
    "collapsed": false
   },
   "outputs": [
    {
     "data": {
      "text/plain": [
       "0.1653432975245212"
      ]
     },
     "execution_count": 25,
     "metadata": {},
     "output_type": "execute_result"
    }
   ],
   "source": [
    "(24.95-21.41)/21.41"
   ]
  },
  {
   "cell_type": "code",
   "execution_count": 26,
   "metadata": {
    "collapsed": false
   },
   "outputs": [
    {
     "data": {
      "text/plain": [
       "<matplotlib.legend.Legend at 0xe584780>"
      ]
     },
     "execution_count": 26,
     "metadata": {},
     "output_type": "execute_result"
    },
    {
     "data": {
      "image/png": "[encoded data removed]",
      "text/plain": [
       "<matplotlib.figure.Figure at 0xe3e4f60>"
      ]
     },
     "metadata": {},
     "output_type": "display_data"
    }
   ],
   "source": [
    "ax = df_vars.plot.bar(figsize=(8,6))\n",
    "ax.legend(bbox_to_anchor=(1, 0.5))"
   ]
  },
  {
   "cell_type": "markdown",
   "metadata": {},
   "source": [
    "### Sensitivity to number of variables"
   ]
  },
  {
   "cell_type": "code",
   "execution_count": 43,
   "metadata": {
    "collapsed": true
   },
   "outputs": [],
   "source": [
    "suffixes = [4, 6, 8, 10, 12, 14, 16, 18, 20]\n",
    "suffixes = ['rf_{}v'.format(i) for i in suffixes]"
   ]
  },
  {
   "cell_type": "code",
   "execution_count": 44,
   "metadata": {
    "collapsed": false,
    "scrolled": true
   },
   "outputs": [
    {
     "name": "stdout",
     "output_type": "stream",
     "text": [
      "rf train rf_rf_4v_train\n",
      "rf test rf_rf_4v_test\n",
      "rf train rf_rf_6v_train\n",
      "rf test rf_rf_6v_test\n",
      "rf train rf_rf_8v_train\n",
      "rf test rf_rf_8v_test\n",
      "rf train rf_rf_10v_train\n",
      "rf test rf_rf_10v_test\n",
      "rf train rf_rf_12v_train\n",
      "rf test rf_rf_12v_test\n",
      "rf train rf_rf_14v_train\n",
      "rf test rf_rf_14v_test\n",
      "rf train rf_rf_16v_train\n",
      "rf test rf_rf_16v_test\n",
      "rf train rf_rf_18v_train\n",
      "rf test rf_rf_18v_test\n",
      "rf train rf_rf_20v_train\n",
      "rf test rf_rf_20v_test\n"
     ]
    }
   ],
   "source": [
    "dfs = []\n",
    "for s in suffixes:\n",
    "    df = make_results_df(suffix=s, models=['rf'])\n",
    "    dfs.append(df)\n",
    "    df.index = [\"{}_{}\".format(i, s) for i in df.index]\n",
    "df_nvars = pd.concat(dfs)\n",
    "\n",
    "    "
   ]
  },
  {
   "cell_type": "code",
   "execution_count": 45,
   "metadata": {
    "collapsed": false
   },
   "outputs": [
    {
     "data": {
      "text/html": [
       "<div>\n",
       "<style>\n",
       "    .dataframe thead tr:only-child th {\n",
       "        text-align: right;\n",
       "    }\n",
       "\n",
       "    .dataframe thead th {\n",
       "        text-align: left;\n",
       "    }\n",
       "\n",
       "    .dataframe tbody tr th {\n",
       "        vertical-align: top;\n",
       "    }\n",
       "</style>\n",
       "<table border=\"1\" class=\"dataframe\">\n",
       "  <thead>\n",
       "    <tr style=\"text-align: right;\">\n",
       "      <th></th>\n",
       "      <th>RMSE-Training</th>\n",
       "      <th>RMSE-Evaluation</th>\n",
       "      <th>MAE-Training</th>\n",
       "      <th>MAE-Evaluation</th>\n",
       "      <th>std-Training</th>\n",
       "      <th>std-Evaluation</th>\n",
       "    </tr>\n",
       "  </thead>\n",
       "  <tbody>\n",
       "    <tr>\n",
       "      <th>rf_rf_4v</th>\n",
       "      <td>10.23</td>\n",
       "      <td>22.36</td>\n",
       "      <td>5.60</td>\n",
       "      <td>12.37</td>\n",
       "      <td>2.50</td>\n",
       "      <td>5.13</td>\n",
       "    </tr>\n",
       "    <tr>\n",
       "      <th>rf_rf_6v</th>\n",
       "      <td>9.41</td>\n",
       "      <td>20.22</td>\n",
       "      <td>5.18</td>\n",
       "      <td>11.70</td>\n",
       "      <td>2.62</td>\n",
       "      <td>5.10</td>\n",
       "    </tr>\n",
       "    <tr>\n",
       "      <th>rf_rf_8v</th>\n",
       "      <td>8.75</td>\n",
       "      <td>19.06</td>\n",
       "      <td>4.85</td>\n",
       "      <td>11.25</td>\n",
       "      <td>2.61</td>\n",
       "      <td>5.34</td>\n",
       "    </tr>\n",
       "    <tr>\n",
       "      <th>rf_rf_10v</th>\n",
       "      <td>8.29</td>\n",
       "      <td>17.66</td>\n",
       "      <td>4.63</td>\n",
       "      <td>10.69</td>\n",
       "      <td>2.62</td>\n",
       "      <td>4.66</td>\n",
       "    </tr>\n",
       "    <tr>\n",
       "      <th>rf_rf_12v</th>\n",
       "      <td>7.89</td>\n",
       "      <td>18.78</td>\n",
       "      <td>4.39</td>\n",
       "      <td>11.20</td>\n",
       "      <td>2.82</td>\n",
       "      <td>5.63</td>\n",
       "    </tr>\n",
       "    <tr>\n",
       "      <th>rf_rf_14v</th>\n",
       "      <td>7.78</td>\n",
       "      <td>17.97</td>\n",
       "      <td>4.22</td>\n",
       "      <td>10.66</td>\n",
       "      <td>2.84</td>\n",
       "      <td>6.50</td>\n",
       "    </tr>\n",
       "    <tr>\n",
       "      <th>rf_rf_16v</th>\n",
       "      <td>7.76</td>\n",
       "      <td>15.73</td>\n",
       "      <td>4.32</td>\n",
       "      <td>9.46</td>\n",
       "      <td>2.79</td>\n",
       "      <td>6.50</td>\n",
       "    </tr>\n",
       "    <tr>\n",
       "      <th>rf_rf_18v</th>\n",
       "      <td>7.74</td>\n",
       "      <td>16.81</td>\n",
       "      <td>4.30</td>\n",
       "      <td>9.95</td>\n",
       "      <td>2.97</td>\n",
       "      <td>7.05</td>\n",
       "    </tr>\n",
       "    <tr>\n",
       "      <th>rf_rf_20v</th>\n",
       "      <td>7.74</td>\n",
       "      <td>16.81</td>\n",
       "      <td>4.30</td>\n",
       "      <td>9.95</td>\n",
       "      <td>2.97</td>\n",
       "      <td>7.05</td>\n",
       "    </tr>\n",
       "  </tbody>\n",
       "</table>\n",
       "</div>"
      ],
      "text/plain": [
       "           RMSE-Training  RMSE-Evaluation  MAE-Training  MAE-Evaluation  \\\n",
       "rf_rf_4v           10.23            22.36          5.60           12.37   \n",
       "rf_rf_6v            9.41            20.22          5.18           11.70   \n",
       "rf_rf_8v            8.75            19.06          4.85           11.25   \n",
       "rf_rf_10v           8.29            17.66          4.63           10.69   \n",
       "rf_rf_12v           7.89            18.78          4.39           11.20   \n",
       "rf_rf_14v           7.78            17.97          4.22           10.66   \n",
       "rf_rf_16v           7.76            15.73          4.32            9.46   \n",
       "rf_rf_18v           7.74            16.81          4.30            9.95   \n",
       "rf_rf_20v           7.74            16.81          4.30            9.95   \n",
       "\n",
       "           std-Training  std-Evaluation  \n",
       "rf_rf_4v           2.50            5.13  \n",
       "rf_rf_6v           2.62            5.10  \n",
       "rf_rf_8v           2.61            5.34  \n",
       "rf_rf_10v          2.62            4.66  \n",
       "rf_rf_12v          2.82            5.63  \n",
       "rf_rf_14v          2.84            6.50  \n",
       "rf_rf_16v          2.79            6.50  \n",
       "rf_rf_18v          2.97            7.05  \n",
       "rf_rf_20v          2.97            7.05  "
      ]
     },
     "execution_count": 45,
     "metadata": {},
     "output_type": "execute_result"
    }
   ],
   "source": [
    "df_nvars"
   ]
  },
  {
   "cell_type": "code",
   "execution_count": 46,
   "metadata": {
    "collapsed": false
   },
   "outputs": [
    {
     "data": {
      "text/plain": [
       "<matplotlib.legend.Legend at 0x10dece48>"
      ]
     },
     "execution_count": 46,
     "metadata": {},
     "output_type": "execute_result"
    },
    {
     "data": {
      "image/png": "[encoded data removed]",
      "text/plain": [
       "<matplotlib.figure.Figure at 0x10dec668>"
      ]
     },
     "metadata": {},
     "output_type": "display_data"
    }
   ],
   "source": [
    "ax = df_nvars.plot(figsize=(8,6))\n",
    "ax.legend(bbox_to_anchor=(1, 0.5))"
   ]
  },
  {
   "cell_type": "code",
   "execution_count": 3,
   "metadata": {
    "collapsed": false
   },
   "outputs": [],
   "source": [
    "df_tune = get_db_table_as_df(\"tuning_mtry\", dbfilename=db_filename)"
   ]
  },
  {
   "cell_type": "code",
   "execution_count": 5,
   "metadata": {
    "collapsed": false
   },
   "outputs": [],
   "source": [
    "del df_tune['row_names']"
   ]
  },
  {
   "cell_type": "code",
   "execution_count": 36,
   "metadata": {
    "collapsed": false
   },
   "outputs": [
    {
     "data": {
      "text/plain": [
       "<matplotlib.axes._subplots.AxesSubplot at 0xe20beb8>"
      ]
     },
     "execution_count": 36,
     "metadata": {},
     "output_type": "execute_result"
    },
    {
     "data": {
      "image/png": "[encoded data removed]",
      "text/plain": [
       "<matplotlib.figure.Figure at 0xe20b6d8>"
      ]
     },
     "metadata": {},
     "output_type": "display_data"
    }
   ],
   "source": [
    "df_tune_piv = df_tune.pivot(columns=\"mtry\", values=\"OOBError\")\n",
    "df_tune_piv.mean().plot.bar()"
   ]
  },
  {
   "cell_type": "code",
   "execution_count": 54,
   "metadata": {
    "collapsed": false
   },
   "outputs": [],
   "source": [
    "j = 0\n",
    "l = []\n",
    "m = []\n",
    "first_time = True\n",
    "for i in df_tune.iterrows():\n",
    "    if i[1]['mtry'] == 1 and first_time == False:\n",
    "        sub_df = pd.DataFrame(m)\n",
    "        sub_df['num_run'] = j\n",
    "        sub_df['rank'] = sub_df['OOBError'].rank()\n",
    "        l.append(sub_df)\n",
    "        j += 1\n",
    "        m = []\n",
    "    first_time = False\n",
    "    m.append(i[1])"
   ]
  },
  {
   "cell_type": "code",
   "execution_count": 68,
   "metadata": {
    "collapsed": true
   },
   "outputs": [],
   "source": [
    "df_tune_counts = pd.concat(l)"
   ]
  },
  {
   "cell_type": "code",
   "execution_count": 69,
   "metadata": {
    "collapsed": false
   },
   "outputs": [
    {
     "data": {
      "text/html": [
       "<div>\n",
       "<style>\n",
       "    .dataframe thead tr:only-child th {\n",
       "        text-align: right;\n",
       "    }\n",
       "\n",
       "    .dataframe thead th {\n",
       "        text-align: left;\n",
       "    }\n",
       "\n",
       "    .dataframe tbody tr th {\n",
       "        vertical-align: top;\n",
       "    }\n",
       "</style>\n",
       "<table border=\"1\" class=\"dataframe\">\n",
       "  <thead>\n",
       "    <tr style=\"text-align: right;\">\n",
       "      <th></th>\n",
       "      <th>mtry</th>\n",
       "      <th>OOBError</th>\n",
       "      <th>num_run</th>\n",
       "      <th>rank</th>\n",
       "    </tr>\n",
       "  </thead>\n",
       "  <tbody>\n",
       "    <tr>\n",
       "      <th>0</th>\n",
       "      <td>1.0</td>\n",
       "      <td>46.183688</td>\n",
       "      <td>0</td>\n",
       "      <td>6.0</td>\n",
       "    </tr>\n",
       "    <tr>\n",
       "      <th>1</th>\n",
       "      <td>2.0</td>\n",
       "      <td>34.617008</td>\n",
       "      <td>0</td>\n",
       "      <td>5.0</td>\n",
       "    </tr>\n",
       "    <tr>\n",
       "      <th>2</th>\n",
       "      <td>4.0</td>\n",
       "      <td>28.417848</td>\n",
       "      <td>0</td>\n",
       "      <td>4.0</td>\n",
       "    </tr>\n",
       "    <tr>\n",
       "      <th>3</th>\n",
       "      <td>8.0</td>\n",
       "      <td>24.093781</td>\n",
       "      <td>0</td>\n",
       "      <td>3.0</td>\n",
       "    </tr>\n",
       "    <tr>\n",
       "      <th>4</th>\n",
       "      <td>16.0</td>\n",
       "      <td>22.988226</td>\n",
       "      <td>0</td>\n",
       "      <td>2.0</td>\n",
       "    </tr>\n",
       "  </tbody>\n",
       "</table>\n",
       "</div>"
      ],
      "text/plain": [
       "   mtry   OOBError  num_run  rank\n",
       "0   1.0  46.183688        0   6.0\n",
       "1   2.0  34.617008        0   5.0\n",
       "2   4.0  28.417848        0   4.0\n",
       "3   8.0  24.093781        0   3.0\n",
       "4  16.0  22.988226        0   2.0"
      ]
     },
     "execution_count": 69,
     "metadata": {},
     "output_type": "execute_result"
    }
   ],
   "source": [
    "df_tune_counts.head()"
   ]
  },
  {
   "cell_type": "code",
   "execution_count": 72,
   "metadata": {
    "collapsed": false
   },
   "outputs": [],
   "source": [
    "df_tune_rank_pivot = df_tune_counts.pivot_table(values='rank', columns='num_run', index='mtry')"
   ]
  },
  {
   "cell_type": "code",
   "execution_count": 74,
   "metadata": {
    "collapsed": false
   },
   "outputs": [
    {
     "data": {
      "text/html": [
       "<div>\n",
       "<style>\n",
       "    .dataframe thead tr:only-child th {\n",
       "        text-align: right;\n",
       "    }\n",
       "\n",
       "    .dataframe thead th {\n",
       "        text-align: left;\n",
       "    }\n",
       "\n",
       "    .dataframe tbody tr th {\n",
       "        vertical-align: top;\n",
       "    }\n",
       "</style>\n",
       "<table border=\"1\" class=\"dataframe\">\n",
       "  <thead>\n",
       "    <tr style=\"text-align: right;\">\n",
       "      <th>num_run</th>\n",
       "      <th>0</th>\n",
       "      <th>1</th>\n",
       "      <th>2</th>\n",
       "      <th>3</th>\n",
       "      <th>4</th>\n",
       "      <th>5</th>\n",
       "      <th>6</th>\n",
       "      <th>7</th>\n",
       "      <th>8</th>\n",
       "      <th>9</th>\n",
       "      <th>...</th>\n",
       "      <th>89</th>\n",
       "      <th>90</th>\n",
       "      <th>91</th>\n",
       "      <th>92</th>\n",
       "      <th>93</th>\n",
       "      <th>94</th>\n",
       "      <th>95</th>\n",
       "      <th>96</th>\n",
       "      <th>97</th>\n",
       "      <th>98</th>\n",
       "    </tr>\n",
       "    <tr>\n",
       "      <th>mtry</th>\n",
       "      <th></th>\n",
       "      <th></th>\n",
       "      <th></th>\n",
       "      <th></th>\n",
       "      <th></th>\n",
       "      <th></th>\n",
       "      <th></th>\n",
       "      <th></th>\n",
       "      <th></th>\n",
       "      <th></th>\n",
       "      <th></th>\n",
       "      <th></th>\n",
       "      <th></th>\n",
       "      <th></th>\n",
       "      <th></th>\n",
       "      <th></th>\n",
       "      <th></th>\n",
       "      <th></th>\n",
       "      <th></th>\n",
       "      <th></th>\n",
       "      <th></th>\n",
       "    </tr>\n",
       "  </thead>\n",
       "  <tbody>\n",
       "    <tr>\n",
       "      <th>1.0</th>\n",
       "      <td>6.0</td>\n",
       "      <td>5.0</td>\n",
       "      <td>6.0</td>\n",
       "      <td>6.0</td>\n",
       "      <td>6.0</td>\n",
       "      <td>6.0</td>\n",
       "      <td>6.0</td>\n",
       "      <td>6.0</td>\n",
       "      <td>6.0</td>\n",
       "      <td>6.0</td>\n",
       "      <td>...</td>\n",
       "      <td>6.0</td>\n",
       "      <td>6.0</td>\n",
       "      <td>6.0</td>\n",
       "      <td>6.0</td>\n",
       "      <td>6.0</td>\n",
       "      <td>5.0</td>\n",
       "      <td>6.0</td>\n",
       "      <td>6.0</td>\n",
       "      <td>6.0</td>\n",
       "      <td>6.0</td>\n",
       "    </tr>\n",
       "    <tr>\n",
       "      <th>2.0</th>\n",
       "      <td>5.0</td>\n",
       "      <td>4.0</td>\n",
       "      <td>5.0</td>\n",
       "      <td>5.0</td>\n",
       "      <td>5.0</td>\n",
       "      <td>5.0</td>\n",
       "      <td>5.0</td>\n",
       "      <td>5.0</td>\n",
       "      <td>5.0</td>\n",
       "      <td>5.0</td>\n",
       "      <td>...</td>\n",
       "      <td>5.0</td>\n",
       "      <td>5.0</td>\n",
       "      <td>5.0</td>\n",
       "      <td>5.0</td>\n",
       "      <td>5.0</td>\n",
       "      <td>4.0</td>\n",
       "      <td>5.0</td>\n",
       "      <td>5.0</td>\n",
       "      <td>5.0</td>\n",
       "      <td>5.0</td>\n",
       "    </tr>\n",
       "    <tr>\n",
       "      <th>4.0</th>\n",
       "      <td>4.0</td>\n",
       "      <td>3.0</td>\n",
       "      <td>4.0</td>\n",
       "      <td>4.0</td>\n",
       "      <td>4.0</td>\n",
       "      <td>4.0</td>\n",
       "      <td>4.0</td>\n",
       "      <td>4.0</td>\n",
       "      <td>4.0</td>\n",
       "      <td>4.0</td>\n",
       "      <td>...</td>\n",
       "      <td>4.0</td>\n",
       "      <td>4.0</td>\n",
       "      <td>4.0</td>\n",
       "      <td>4.0</td>\n",
       "      <td>4.0</td>\n",
       "      <td>3.0</td>\n",
       "      <td>4.0</td>\n",
       "      <td>4.0</td>\n",
       "      <td>4.0</td>\n",
       "      <td>4.0</td>\n",
       "    </tr>\n",
       "    <tr>\n",
       "      <th>8.0</th>\n",
       "      <td>3.0</td>\n",
       "      <td>1.0</td>\n",
       "      <td>3.0</td>\n",
       "      <td>3.0</td>\n",
       "      <td>3.0</td>\n",
       "      <td>3.0</td>\n",
       "      <td>3.0</td>\n",
       "      <td>3.0</td>\n",
       "      <td>2.0</td>\n",
       "      <td>3.0</td>\n",
       "      <td>...</td>\n",
       "      <td>3.0</td>\n",
       "      <td>3.0</td>\n",
       "      <td>3.0</td>\n",
       "      <td>3.0</td>\n",
       "      <td>3.0</td>\n",
       "      <td>1.0</td>\n",
       "      <td>3.0</td>\n",
       "      <td>3.0</td>\n",
       "      <td>3.0</td>\n",
       "      <td>3.0</td>\n",
       "    </tr>\n",
       "    <tr>\n",
       "      <th>16.0</th>\n",
       "      <td>2.0</td>\n",
       "      <td>2.0</td>\n",
       "      <td>2.0</td>\n",
       "      <td>2.0</td>\n",
       "      <td>1.0</td>\n",
       "      <td>1.0</td>\n",
       "      <td>1.0</td>\n",
       "      <td>2.0</td>\n",
       "      <td>1.0</td>\n",
       "      <td>1.0</td>\n",
       "      <td>...</td>\n",
       "      <td>2.0</td>\n",
       "      <td>1.0</td>\n",
       "      <td>1.0</td>\n",
       "      <td>1.0</td>\n",
       "      <td>2.0</td>\n",
       "      <td>2.0</td>\n",
       "      <td>2.0</td>\n",
       "      <td>1.0</td>\n",
       "      <td>1.0</td>\n",
       "      <td>1.0</td>\n",
       "    </tr>\n",
       "    <tr>\n",
       "      <th>17.0</th>\n",
       "      <td>1.0</td>\n",
       "      <td>NaN</td>\n",
       "      <td>1.0</td>\n",
       "      <td>1.0</td>\n",
       "      <td>2.0</td>\n",
       "      <td>2.0</td>\n",
       "      <td>2.0</td>\n",
       "      <td>1.0</td>\n",
       "      <td>3.0</td>\n",
       "      <td>2.0</td>\n",
       "      <td>...</td>\n",
       "      <td>1.0</td>\n",
       "      <td>2.0</td>\n",
       "      <td>2.0</td>\n",
       "      <td>2.0</td>\n",
       "      <td>1.0</td>\n",
       "      <td>NaN</td>\n",
       "      <td>1.0</td>\n",
       "      <td>2.0</td>\n",
       "      <td>2.0</td>\n",
       "      <td>2.0</td>\n",
       "    </tr>\n",
       "  </tbody>\n",
       "</table>\n",
       "<p>6 rows × 99 columns</p>\n",
       "</div>"
      ],
      "text/plain": [
       "num_run   0    1    2    3    4    5    6    7    8    9  ...    89   90   91  \\\n",
       "mtry                                                      ...                   \n",
       "1.0      6.0  5.0  6.0  6.0  6.0  6.0  6.0  6.0  6.0  6.0 ...   6.0  6.0  6.0   \n",
       "2.0      5.0  4.0  5.0  5.0  5.0  5.0  5.0  5.0  5.0  5.0 ...   5.0  5.0  5.0   \n",
       "4.0      4.0  3.0  4.0  4.0  4.0  4.0  4.0  4.0  4.0  4.0 ...   4.0  4.0  4.0   \n",
       "8.0      3.0  1.0  3.0  3.0  3.0  3.0  3.0  3.0  2.0  3.0 ...   3.0  3.0  3.0   \n",
       "16.0     2.0  2.0  2.0  2.0  1.0  1.0  1.0  2.0  1.0  1.0 ...   2.0  1.0  1.0   \n",
       "17.0     1.0  NaN  1.0  1.0  2.0  2.0  2.0  1.0  3.0  2.0 ...   1.0  2.0  2.0   \n",
       "\n",
       "num_run   92   93   94   95   96   97   98  \n",
       "mtry                                        \n",
       "1.0      6.0  6.0  5.0  6.0  6.0  6.0  6.0  \n",
       "2.0      5.0  5.0  4.0  5.0  5.0  5.0  5.0  \n",
       "4.0      4.0  4.0  3.0  4.0  4.0  4.0  4.0  \n",
       "8.0      3.0  3.0  1.0  3.0  3.0  3.0  3.0  \n",
       "16.0     1.0  2.0  2.0  2.0  1.0  1.0  1.0  \n",
       "17.0     2.0  1.0  NaN  1.0  2.0  2.0  2.0  \n",
       "\n",
       "[6 rows x 99 columns]"
      ]
     },
     "execution_count": 74,
     "metadata": {},
     "output_type": "execute_result"
    }
   ],
   "source": [
    "df_tune_rank_pivot.head(6)"
   ]
  },
  {
   "cell_type": "code",
   "execution_count": 80,
   "metadata": {
    "collapsed": false
   },
   "outputs": [
    {
     "data": {
      "text/plain": [
       "<matplotlib.axes._subplots.AxesSubplot at 0xea06128>"
      ]
     },
     "execution_count": 80,
     "metadata": {},
     "output_type": "execute_result"
    },
    {
     "data": {
      "image/png": "[encoded data removed]",
      "text/plain": [
       "<matplotlib.figure.Figure at 0xea1bb70>"
      ]
     },
     "metadata": {},
     "output_type": "display_data"
    }
   ],
   "source": [
    "(df_tune_rank_pivot == 1).sum(1).plot.bar()"
   ]
  }
 ],
 "metadata": {
  "kernelspec": {
   "display_name": "Python 2",
   "language": "python",
   "name": "python2"
  },
  "language_info": {
   "codemirror_mode": {
    "name": "ipython",
    "version": 2
   },
   "file_extension": ".py",
   "mimetype": "text/x-python",
   "name": "python",
   "nbconvert_exporter": "python",
   "pygments_lexer": "ipython2",
   "version": "2.7.13"
  }
 },
 "nbformat": 4,
 "nbformat_minor": 2
}
