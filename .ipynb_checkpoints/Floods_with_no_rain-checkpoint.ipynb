{
 "cells": [
  {
   "cell_type": "markdown",
   "metadata": {
    "deletable": true,
    "editable": true
   },
   "source": [
    "## Intro\n",
    "This is some code to examine the flooding events where no rainfall occurred but flooding was still recorded"
   ]
  },
  {
   "cell_type": "code",
   "execution_count": 79,
   "metadata": {
    "collapsed": false,
    "deletable": true,
    "editable": true,
    "scrolled": true
   },
   "outputs": [],
   "source": [
    "from db_scripts.get_server_data import data_dir\n",
    "import pandas as pd\n",
    "import matplotlib.pyplot as plt\n",
    "import math\n",
    "import mpl_toolkits\n",
    "from mpl_toolkits.basemap import Basemap\n",
    "import numpy as np"
   ]
  },
  {
   "cell_type": "code",
   "execution_count": 15,
   "metadata": {
    "collapsed": false,
    "deletable": true,
    "editable": true
   },
   "outputs": [],
   "source": [
    "df = pd.read_csv(\"{}{}\".format(data_dir, \"reformatted_for_model_downtown_nor.csv\"))"
   ]
  },
  {
   "cell_type": "code",
   "execution_count": 16,
   "metadata": {
    "collapsed": false,
    "deletable": true,
    "editable": true
   },
   "outputs": [
    {
     "name": "stdout",
     "output_type": "stream",
     "text": [
      "   Unnamed: 0    Datetime  tide_level  rainfall_daily_total  \\\n",
      "0           0  2010-01-02    0.352125                   0.0   \n",
      "1           1  2010-01-03   -0.853333                   0.0   \n",
      "2           2  2010-01-04   -0.789292                   0.0   \n",
      "3           3  2010-01-05   -0.235708                   0.0   \n",
      "4           4  2010-01-06   -0.295375                   0.0   \n",
      "\n",
      "   rainfall_daily_max_15  rainfall_prev_3_days  shallow_well_depth flooded  \n",
      "0                    0.0                   NaN            3.236243   False  \n",
      "1                    0.0                  0.06            3.125281   False  \n",
      "2                    0.0                  0.00            2.989199   False  \n",
      "3                    0.0                  0.00            2.871405   False  \n",
      "4                    0.0                  0.00            2.752379   False  \n"
     ]
    }
   ],
   "source": [
    "print df.head()"
   ]
  },
  {
   "cell_type": "markdown",
   "metadata": {
    "deletable": true,
    "editable": true
   },
   "source": [
    "### Get the events that had very little rainfall (less than 0.1 in for the past three days)."
   ]
  },
  {
   "cell_type": "code",
   "execution_count": 17,
   "metadata": {
    "collapsed": false,
    "deletable": true,
    "editable": true,
    "scrolled": true
   },
   "outputs": [
    {
     "name": "stdout",
     "output_type": "stream",
     "text": [
      "(6, 8)\n",
      "      Unnamed: 0    Datetime  tide_level  rainfall_daily_total  \\\n",
      "2090        2090  2015-09-23    1.571292                  0.00   \n",
      "2168        2168  2015-12-10    0.481792                  0.02   \n",
      "2229        2229  2016-02-09    1.607417                  0.01   \n",
      "2396        2396  2016-07-25    0.104667                  0.00   \n",
      "2433        2433  2016-08-31    0.332583                  0.00   \n",
      "\n",
      "      rainfall_daily_max_15  rainfall_prev_3_days  shallow_well_depth flooded  \n",
      "2090                   0.00          5.000000e-02            2.557358    True  \n",
      "2168                   0.01          3.000000e-02            3.424951    True  \n",
      "2229                   0.01          9.000000e-02            5.014552    True  \n",
      "2396                   0.00         -2.211772e-15            3.149425    True  \n",
      "2433                   0.00         -2.289835e-15            2.602684    True  \n"
     ]
    }
   ],
   "source": [
    "flooded_df = df[(df.flooded==True) & (df['rainfall_prev_3_days'] < 0.1)]\n",
    "print flooded_df.shape\n",
    "print flooded_df.head()"
   ]
  },
  {
   "cell_type": "markdown",
   "metadata": {
    "deletable": true,
    "editable": true
   },
   "source": [
    "### Get the dates when those events happened"
   ]
  },
  {
   "cell_type": "code",
   "execution_count": 18,
   "metadata": {
    "collapsed": false,
    "deletable": true,
    "editable": true
   },
   "outputs": [],
   "source": [
    "no_rain_dates = flooded_df['Datetime']\n",
    "no_rain_dates.reset_index(drop=True, inplace=True)"
   ]
  },
  {
   "cell_type": "code",
   "execution_count": 19,
   "metadata": {
    "collapsed": false,
    "deletable": true,
    "editable": true
   },
   "outputs": [
    {
     "name": "stdout",
     "output_type": "stream",
     "text": [
      "0    2015-09-23\n",
      "1    2015-12-10\n",
      "2    2016-02-09\n",
      "3    2016-07-25\n",
      "4    2016-08-31\n",
      "5    2016-10-05\n",
      "Name: Datetime, dtype: object\n"
     ]
    }
   ],
   "source": [
    "print no_rain_dates"
   ]
  },
  {
   "cell_type": "markdown",
   "metadata": {
    "deletable": true,
    "editable": true
   },
   "source": [
    "### Now we import all the flooding events"
   ]
  },
  {
   "cell_type": "code",
   "execution_count": 20,
   "metadata": {
    "collapsed": false,
    "deletable": true,
    "editable": true
   },
   "outputs": [
    {
     "data": {
      "text/html": [
       "<div>\n",
       "<table border=\"1\" class=\"dataframe\">\n",
       "  <thead>\n",
       "    <tr style=\"text-align: right;\">\n",
       "      <th></th>\n",
       "      <th>field_1</th>\n",
       "      <th>﻿recid</th>\n",
       "      <th>location</th>\n",
       "      <th>event</th>\n",
       "      <th>eventType</th>\n",
       "      <th>xcoord</th>\n",
       "      <th>ycoord</th>\n",
       "      <th>dt</th>\n",
       "      <th>_date</th>\n",
       "      <th>_time</th>\n",
       "      <th>lon</th>\n",
       "      <th>lat</th>\n",
       "    </tr>\n",
       "  </thead>\n",
       "  <tbody>\n",
       "    <tr>\n",
       "      <th>0</th>\n",
       "      <td>0</td>\n",
       "      <td>468</td>\n",
       "      <td>300 BLOCK OF SHIRLEY AVENUE</td>\n",
       "      <td>Nicole (9/30/2010)</td>\n",
       "      <td>Flooded street</td>\n",
       "      <td>1.212926e+07</td>\n",
       "      <td>3.481753e+06</td>\n",
       "      <td>2010-09-30 07:32:47.000</td>\n",
       "      <td>9/30/2010</td>\n",
       "      <td>1900-01-01 07:32:00.000</td>\n",
       "      <td>-76.290425</td>\n",
       "      <td>36.864399</td>\n",
       "    </tr>\n",
       "    <tr>\n",
       "      <th>1</th>\n",
       "      <td>1</td>\n",
       "      <td>469</td>\n",
       "      <td>LLEWELLYN AVENUE &amp; SHIRLEY AVENUE</td>\n",
       "      <td>Nicole (9/30/2010)</td>\n",
       "      <td>Flooded street</td>\n",
       "      <td>1.212972e+07</td>\n",
       "      <td>3.481566e+06</td>\n",
       "      <td>2010-09-30 07:33:19.000</td>\n",
       "      <td>9/30/2010</td>\n",
       "      <td>1900-01-01 07:33:00.000</td>\n",
       "      <td>-76.288847</td>\n",
       "      <td>36.863856</td>\n",
       "    </tr>\n",
       "    <tr>\n",
       "      <th>2</th>\n",
       "      <td>2</td>\n",
       "      <td>470</td>\n",
       "      <td>LLEWELLYN AVENUE &amp; W PRINCESS ANNE ROAD</td>\n",
       "      <td>Nicole (9/30/2010)</td>\n",
       "      <td>Flooded street</td>\n",
       "      <td>1.212937e+07</td>\n",
       "      <td>3.480689e+06</td>\n",
       "      <td>2010-09-30 07:33:48.000</td>\n",
       "      <td>9/30/2010</td>\n",
       "      <td>1900-01-01 07:33:00.000</td>\n",
       "      <td>-76.290115</td>\n",
       "      <td>36.861472</td>\n",
       "    </tr>\n",
       "    <tr>\n",
       "      <th>3</th>\n",
       "      <td>3</td>\n",
       "      <td>471</td>\n",
       "      <td>900 BLOCK OF TIDEWATER DRIVE</td>\n",
       "      <td>Nicole (9/30/2010)</td>\n",
       "      <td>Flooded street</td>\n",
       "      <td>1.213392e+07</td>\n",
       "      <td>3.478090e+06</td>\n",
       "      <td>2010-09-30 08:29:00.000</td>\n",
       "      <td>9/30/2010</td>\n",
       "      <td>1900-01-01 08:29:00.000</td>\n",
       "      <td>-76.274775</td>\n",
       "      <td>36.854041</td>\n",
       "    </tr>\n",
       "    <tr>\n",
       "      <th>4</th>\n",
       "      <td>4</td>\n",
       "      <td>472</td>\n",
       "      <td>CAMPOSTELLA ROAD &amp; E BRAMBLETON AVENUE</td>\n",
       "      <td>Nicole (9/30/2010)</td>\n",
       "      <td>Flooded street</td>\n",
       "      <td>1.213638e+07</td>\n",
       "      <td>3.474443e+06</td>\n",
       "      <td>2010-09-30 08:29:38.000</td>\n",
       "      <td>9/30/2010</td>\n",
       "      <td>1900-01-01 08:29:00.000</td>\n",
       "      <td>-76.266674</td>\n",
       "      <td>36.843867</td>\n",
       "    </tr>\n",
       "  </tbody>\n",
       "</table>\n",
       "</div>"
      ],
      "text/plain": [
       "   field_1  ﻿recid                                 location  \\\n",
       "0        0     468              300 BLOCK OF SHIRLEY AVENUE   \n",
       "1        1     469        LLEWELLYN AVENUE & SHIRLEY AVENUE   \n",
       "2        2     470  LLEWELLYN AVENUE & W PRINCESS ANNE ROAD   \n",
       "3        3     471             900 BLOCK OF TIDEWATER DRIVE   \n",
       "4        4     472   CAMPOSTELLA ROAD & E BRAMBLETON AVENUE   \n",
       "\n",
       "                event       eventType        xcoord        ycoord  \\\n",
       "0  Nicole (9/30/2010)  Flooded street  1.212926e+07  3.481753e+06   \n",
       "1  Nicole (9/30/2010)  Flooded street  1.212972e+07  3.481566e+06   \n",
       "2  Nicole (9/30/2010)  Flooded street  1.212937e+07  3.480689e+06   \n",
       "3  Nicole (9/30/2010)  Flooded street  1.213392e+07  3.478090e+06   \n",
       "4  Nicole (9/30/2010)  Flooded street  1.213638e+07  3.474443e+06   \n",
       "\n",
       "                        dt       _date                    _time        lon  \\\n",
       "0  2010-09-30 07:32:47.000  9/30/2010   1900-01-01 07:32:00.000 -76.290425   \n",
       "1  2010-09-30 07:33:19.000  9/30/2010   1900-01-01 07:33:00.000 -76.288847   \n",
       "2  2010-09-30 07:33:48.000  9/30/2010   1900-01-01 07:33:00.000 -76.290115   \n",
       "3  2010-09-30 08:29:00.000  9/30/2010   1900-01-01 08:29:00.000 -76.274775   \n",
       "4  2010-09-30 08:29:38.000  9/30/2010   1900-01-01 08:29:00.000 -76.266674   \n",
       "\n",
       "         lat  \n",
       "0  36.864399  \n",
       "1  36.863856  \n",
       "2  36.861472  \n",
       "3  36.854041  \n",
       "4  36.843867  "
      ]
     },
     "execution_count": 20,
     "metadata": {},
     "output_type": "execute_result"
    }
   ],
   "source": [
    "all_df = pd.read_csv('{}norfolk_flooded_roads_data/STORM_data_flooded_streets_2010-2016_no_duplicates_clean_lat_lon.csv'.format(data_dir))\n",
    "all_df.head()"
   ]
  },
  {
   "cell_type": "code",
   "execution_count": 21,
   "metadata": {
    "collapsed": true,
    "deletable": true,
    "editable": true
   },
   "outputs": [],
   "source": [
    "all_df['_date'] = pd.to_datetime(all_df['_date'])"
   ]
  },
  {
   "cell_type": "markdown",
   "metadata": {},
   "source": [
    "### Plot the points on a map"
   ]
  },
  {
   "cell_type": "code",
   "execution_count": 78,
   "metadata": {
    "collapsed": false,
    "deletable": true,
    "editable": true
   },
   "outputs": [
    {
     "name": "stdout",
     "output_type": "stream",
     "text": [
      "36.8857421838 -76.2664247388 -76.318517 36.822478 -76.177752 36.968341\n",
      "     field_1  ﻿recid               location                 event  \\\n",
      "542      542    4468  401 MONTICELLO AVENUE  unnamed  (9/17/2015)   \n",
      "\n",
      "          eventType        xcoord        ycoord                       dt  \\\n",
      "542  Flooded street  1.212976e+07  3.476952e+06  2015-09-23 14:37:57.000   \n",
      "\n",
      "         _date                    _time        lon        lat  \n",
      "542 2015-09-23  2015-09-23 14:37:57.000 -76.289093  36.851184  \n"
     ]
    },
    {
     "data": {
      "image/png": "[encoded data removed]",
      "text/plain": [
       "<matplotlib.figure.Figure at 0x7fb7352e2350>"
      ]
     },
     "metadata": {},
     "output_type": "display_data"
    },
    {
     "data": {
      "image/png": "[encoded data removed]",
      "text/plain": [
       "<matplotlib.figure.Figure at 0x7fb735aa8450>"
      ]
     },
     "metadata": {},
     "output_type": "display_data"
    }
   ],
   "source": [
    "ncols = 4\n",
    "nrows = int(math.ceil(float(len(no_rain_dates))/ncols))\n",
    "fig, axs = plt.subplots(ncols=ncols, nrows=nrows, sharex=True, sharey=True, figsize=(8,4))\n",
    "ax_list = axs.ravel()\n",
    "for i in range(1):\n",
    "    plot_df = all_df[all_df['_date'] == no_rain_dates[i]]\n",
    "    lats = all_df['lat']\n",
    "    lons = all_df['lon']\n",
    "    lat_cent = lats.mean()\n",
    "    lon_cent = lons.mean()\n",
    "    print lats.mean(), lons.mean(), lons.min(), lats.min(), lons.max(), lats.max()\n",
    "#     map = Basemap(projection='merc', lat_0 = lats.mean(), lon_0=lons.mean(), \n",
    "#                   llcrnrlon=lons.min(), llcrnrlat=lats.min(), urcrnrlon=lons.max(), urcrnrlat=lats.max(), ax=ax_list[i])\n",
    "    map = Basemap(llcrnrlon=lons.min()*1.001,llcrnrlat=lats.min()*0.999,urcrnrlon=lons.max()*0.999,urcrnrlat=lats.max()*1.001,\n",
    "             resolution='i', projection='tmerc', lat_0 = 36.8857421838, lon_0 = -76.2664247388, ax=ax_list[i])\n",
    "    map.drawcoastlines()\n",
    "    map.drawcountries()\n",
    "    map.drawparallels([np.arange())\n",
    "    map.fillcontinents(color = 'coral')\n",
    "    print plot_df\n",
    "    map.scatter(plot_df['lon'].tolist(), plot_df['lat'].tolist(), latlon=True)\n",
    "#     ax_list[i].scatter(plot_df['lat'], plot_df['lon'])\n",
    "plt.show()"
   ]
  },
  {
   "cell_type": "code",
   "execution_count": null,
   "metadata": {
    "collapsed": true
   },
   "outputs": [],
   "source": []
  }
 ],
 "metadata": {
  "kernelspec": {
   "display_name": "Python 2",
   "language": "python",
   "name": "python2"
  }
 },
 "nbformat": 4,
 "nbformat_minor": 0
}
