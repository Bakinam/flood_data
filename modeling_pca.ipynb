{
 "cells": [
  {
   "cell_type": "code",
   "execution_count": 1,
   "metadata": {
    "collapsed": false,
    "deletable": true,
    "editable": true
   },
   "outputs": [],
   "source": [
    "%matplotlib inline\n",
    "import pandas as pd\n",
    "from db_scripts.get_server_data import data_dir, get_table_for_variable, fig_dir, get_table_for_variable\n",
    "import numpy as np\n",
    "from sklearn.decomposition import PCA\n",
    "import matplotlib.pyplot as plt\n",
    "from matplotlib.legend_handler import HandlerPathCollection\n",
    "from operator import add\n",
    "import matplotlib\n",
    "from mpl_toolkits.mplot3d import Axes3D\n",
    "\n"
   ]
  },
  {
   "cell_type": "markdown",
   "metadata": {
    "deletable": true,
    "editable": true
   },
   "source": [
    "Read in the data"
   ]
  },
  {
   "cell_type": "code",
   "execution_count": 2,
   "metadata": {
    "collapsed": false,
    "deletable": true,
    "editable": true
   },
   "outputs": [],
   "source": [
    "df = pd.read_csv(\"{}reformat_by_event.csv\".format(data_dir))\n",
    "df.sort_values('flooded', inplace=True)"
   ]
  },
  {
   "cell_type": "code",
   "execution_count": 3,
   "metadata": {
    "collapsed": false,
    "deletable": true,
    "editable": true
   },
   "outputs": [
    {
     "data": {
      "text/html": [
       "<div>\n",
       "<table border=\"1\" class=\"dataframe\">\n",
       "  <thead>\n",
       "    <tr style=\"text-align: right;\">\n",
       "      <th></th>\n",
       "      <th>rain_daily_sum</th>\n",
       "      <th>rain_hourly_max</th>\n",
       "      <th>rain_15_min_max</th>\n",
       "      <th>rain_prev_3_days</th>\n",
       "      <th>gw_elev_avg</th>\n",
       "      <th>tide_elev_avg</th>\n",
       "      <th>num_flooded</th>\n",
       "      <th>flooded</th>\n",
       "      <th>event_name</th>\n",
       "      <th>event_date</th>\n",
       "    </tr>\n",
       "  </thead>\n",
       "  <tbody>\n",
       "    <tr>\n",
       "      <th>13</th>\n",
       "      <td>0.000</td>\n",
       "      <td>1.084202e-15</td>\n",
       "      <td>0.00</td>\n",
       "      <td>2.750000e-02</td>\n",
       "      <td>2.448416</td>\n",
       "      <td>0.826125</td>\n",
       "      <td>1.0</td>\n",
       "      <td>True</td>\n",
       "      <td>unnamed</td>\n",
       "      <td>2015-09-17</td>\n",
       "    </tr>\n",
       "    <tr>\n",
       "      <th>22</th>\n",
       "      <td>0.005</td>\n",
       "      <td>1.000000e-02</td>\n",
       "      <td>0.01</td>\n",
       "      <td>1.585000e+00</td>\n",
       "      <td>3.117073</td>\n",
       "      <td>-0.058333</td>\n",
       "      <td>1.0</td>\n",
       "      <td>True</td>\n",
       "      <td>unnamed</td>\n",
       "      <td>2016-07-20</td>\n",
       "    </tr>\n",
       "    <tr>\n",
       "      <th>23</th>\n",
       "      <td>0.000</td>\n",
       "      <td>1.405126e-15</td>\n",
       "      <td>0.00</td>\n",
       "      <td>-1.216909e-15</td>\n",
       "      <td>3.149425</td>\n",
       "      <td>0.104667</td>\n",
       "      <td>1.0</td>\n",
       "      <td>True</td>\n",
       "      <td>Bernie Training</td>\n",
       "      <td>2016-07-25</td>\n",
       "    </tr>\n",
       "  </tbody>\n",
       "</table>\n",
       "</div>"
      ],
      "text/plain": [
       "    rain_daily_sum  rain_hourly_max  rain_15_min_max  rain_prev_3_days  \\\n",
       "13           0.000     1.084202e-15             0.00      2.750000e-02   \n",
       "22           0.005     1.000000e-02             0.01      1.585000e+00   \n",
       "23           0.000     1.405126e-15             0.00     -1.216909e-15   \n",
       "\n",
       "    gw_elev_avg  tide_elev_avg  num_flooded flooded       event_name  \\\n",
       "13     2.448416       0.826125          1.0    True          unnamed   \n",
       "22     3.117073      -0.058333          1.0    True          unnamed   \n",
       "23     3.149425       0.104667          1.0    True  Bernie Training   \n",
       "\n",
       "    event_date  \n",
       "13  2015-09-17  \n",
       "22  2016-07-20  \n",
       "23  2016-07-25  "
      ]
     },
     "execution_count": 3,
     "metadata": {},
     "output_type": "execute_result"
    }
   ],
   "source": [
    "df[(df.rain_daily_sum<0.1) & (df.flooded)]"
   ]
  },
  {
   "cell_type": "markdown",
   "metadata": {
    "deletable": true,
    "editable": true
   },
   "source": [
    "I feel comfortable taking out 2.5 events (I am counting 'Bernie Training' as 0.5 of an event because it says 'Training') filtering on a daily rainfall of above 0.1 inches."
   ]
  },
  {
   "cell_type": "code",
   "execution_count": 4,
   "metadata": {
    "collapsed": false,
    "deletable": true,
    "editable": true
   },
   "outputs": [
    {
     "name": "stdout",
     "output_type": "stream",
     "text": [
      "2471\n",
      "517\n"
     ]
    }
   ],
   "source": [
    "print len(df)\n",
    "df = df[df.rain_daily_sum > 0.1]\n",
    "print len(df)"
   ]
  },
  {
   "cell_type": "markdown",
   "metadata": {
    "deletable": true,
    "editable": true
   },
   "source": [
    "let's separate the features out"
   ]
  },
  {
   "cell_type": "code",
   "execution_count": 5,
   "metadata": {
    "collapsed": false,
    "deletable": true,
    "editable": true
   },
   "outputs": [
    {
     "data": {
      "text/html": [
       "<div>\n",
       "<table border=\"1\" class=\"dataframe\">\n",
       "  <thead>\n",
       "    <tr style=\"text-align: right;\">\n",
       "      <th></th>\n",
       "      <th>rain_daily_sum</th>\n",
       "      <th>rain_hourly_max</th>\n",
       "      <th>rain_15_min_max</th>\n",
       "      <th>rain_prev_3_days</th>\n",
       "      <th>gw_elev_avg</th>\n",
       "      <th>tide_elev_avg</th>\n",
       "    </tr>\n",
       "  </thead>\n",
       "  <tbody>\n",
       "    <tr>\n",
       "      <th>1235</th>\n",
       "      <td>1.320000</td>\n",
       "      <td>0.32</td>\n",
       "      <td>0.12</td>\n",
       "      <td>1.345000</td>\n",
       "      <td>2.441582</td>\n",
       "      <td>0.064875</td>\n",
       "    </tr>\n",
       "    <tr>\n",
       "      <th>1647</th>\n",
       "      <td>0.150000</td>\n",
       "      <td>0.22</td>\n",
       "      <td>0.13</td>\n",
       "      <td>0.993333</td>\n",
       "      <td>1.780793</td>\n",
       "      <td>0.531583</td>\n",
       "    </tr>\n",
       "    <tr>\n",
       "      <th>1641</th>\n",
       "      <td>0.333333</td>\n",
       "      <td>0.44</td>\n",
       "      <td>0.34</td>\n",
       "      <td>1.500000</td>\n",
       "      <td>1.781762</td>\n",
       "      <td>0.672500</td>\n",
       "    </tr>\n",
       "    <tr>\n",
       "      <th>1640</th>\n",
       "      <td>1.160000</td>\n",
       "      <td>1.18</td>\n",
       "      <td>0.97</td>\n",
       "      <td>1.166667</td>\n",
       "      <td>1.730518</td>\n",
       "      <td>0.718458</td>\n",
       "    </tr>\n",
       "    <tr>\n",
       "      <th>1625</th>\n",
       "      <td>0.370000</td>\n",
       "      <td>0.28</td>\n",
       "      <td>0.12</td>\n",
       "      <td>0.370000</td>\n",
       "      <td>2.017969</td>\n",
       "      <td>0.254292</td>\n",
       "    </tr>\n",
       "  </tbody>\n",
       "</table>\n",
       "</div>"
      ],
      "text/plain": [
       "      rain_daily_sum  rain_hourly_max  rain_15_min_max  rain_prev_3_days  \\\n",
       "1235        1.320000             0.32             0.12          1.345000   \n",
       "1647        0.150000             0.22             0.13          0.993333   \n",
       "1641        0.333333             0.44             0.34          1.500000   \n",
       "1640        1.160000             1.18             0.97          1.166667   \n",
       "1625        0.370000             0.28             0.12          0.370000   \n",
       "\n",
       "      gw_elev_avg  tide_elev_avg  \n",
       "1235     2.441582       0.064875  \n",
       "1647     1.780793       0.531583  \n",
       "1641     1.781762       0.672500  \n",
       "1640     1.730518       0.718458  \n",
       "1625     2.017969       0.254292  "
      ]
     },
     "execution_count": 5,
     "metadata": {},
     "output_type": "execute_result"
    }
   ],
   "source": [
    "feat_df = df.iloc[:, :6]\n",
    "feat_df.head()"
   ]
  },
  {
   "cell_type": "markdown",
   "metadata": {
    "deletable": true,
    "editable": true
   },
   "source": [
    "When I tried to do PCA it threw an error saying that my data contained NAN. So here's what I found:"
   ]
  },
  {
   "cell_type": "code",
   "execution_count": 6,
   "metadata": {
    "collapsed": false,
    "deletable": true,
    "editable": true
   },
   "outputs": [
    {
     "name": "stdout",
     "output_type": "stream",
     "text": [
      "16\n"
     ]
    },
    {
     "data": {
      "text/html": [
       "<div>\n",
       "<table border=\"1\" class=\"dataframe\">\n",
       "  <thead>\n",
       "    <tr style=\"text-align: right;\">\n",
       "      <th></th>\n",
       "      <th>rain_daily_sum</th>\n",
       "      <th>rain_hourly_max</th>\n",
       "      <th>rain_15_min_max</th>\n",
       "      <th>rain_prev_3_days</th>\n",
       "      <th>gw_elev_avg</th>\n",
       "      <th>tide_elev_avg</th>\n",
       "    </tr>\n",
       "  </thead>\n",
       "  <tbody>\n",
       "    <tr>\n",
       "      <th>614</th>\n",
       "      <td>2.105</td>\n",
       "      <td>1.15</td>\n",
       "      <td>0.45</td>\n",
       "      <td>2.105</td>\n",
       "      <td>NaN</td>\n",
       "      <td>0.083625</td>\n",
       "    </tr>\n",
       "    <tr>\n",
       "      <th>626</th>\n",
       "      <td>0.415</td>\n",
       "      <td>0.53</td>\n",
       "      <td>0.35</td>\n",
       "      <td>0.415</td>\n",
       "      <td>NaN</td>\n",
       "      <td>-0.138917</td>\n",
       "    </tr>\n",
       "    <tr>\n",
       "      <th>273</th>\n",
       "      <td>0.235</td>\n",
       "      <td>0.07</td>\n",
       "      <td>0.03</td>\n",
       "      <td>0.235</td>\n",
       "      <td>NaN</td>\n",
       "      <td>1.250792</td>\n",
       "    </tr>\n",
       "    <tr>\n",
       "      <th>282</th>\n",
       "      <td>0.235</td>\n",
       "      <td>0.06</td>\n",
       "      <td>0.05</td>\n",
       "      <td>0.235</td>\n",
       "      <td>NaN</td>\n",
       "      <td>0.489250</td>\n",
       "    </tr>\n",
       "    <tr>\n",
       "      <th>257</th>\n",
       "      <td>1.175</td>\n",
       "      <td>1.28</td>\n",
       "      <td>0.78</td>\n",
       "      <td>1.175</td>\n",
       "      <td>NaN</td>\n",
       "      <td>0.071500</td>\n",
       "    </tr>\n",
       "    <tr>\n",
       "      <th>258</th>\n",
       "      <td>0.150</td>\n",
       "      <td>0.14</td>\n",
       "      <td>0.06</td>\n",
       "      <td>1.325</td>\n",
       "      <td>NaN</td>\n",
       "      <td>0.251417</td>\n",
       "    </tr>\n",
       "    <tr>\n",
       "      <th>261</th>\n",
       "      <td>0.600</td>\n",
       "      <td>0.35</td>\n",
       "      <td>0.24</td>\n",
       "      <td>0.600</td>\n",
       "      <td>NaN</td>\n",
       "      <td>0.413375</td>\n",
       "    </tr>\n",
       "    <tr>\n",
       "      <th>296</th>\n",
       "      <td>0.235</td>\n",
       "      <td>0.17</td>\n",
       "      <td>0.07</td>\n",
       "      <td>0.235</td>\n",
       "      <td>NaN</td>\n",
       "      <td>0.139083</td>\n",
       "    </tr>\n",
       "    <tr>\n",
       "      <th>297</th>\n",
       "      <td>2.020</td>\n",
       "      <td>0.61</td>\n",
       "      <td>0.39</td>\n",
       "      <td>2.255</td>\n",
       "      <td>NaN</td>\n",
       "      <td>0.454542</td>\n",
       "    </tr>\n",
       "    <tr>\n",
       "      <th>298</th>\n",
       "      <td>0.490</td>\n",
       "      <td>0.34</td>\n",
       "      <td>0.29</td>\n",
       "      <td>2.745</td>\n",
       "      <td>NaN</td>\n",
       "      <td>0.478750</td>\n",
       "    </tr>\n",
       "    <tr>\n",
       "      <th>299</th>\n",
       "      <td>0.950</td>\n",
       "      <td>0.48</td>\n",
       "      <td>0.25</td>\n",
       "      <td>3.460</td>\n",
       "      <td>NaN</td>\n",
       "      <td>0.482000</td>\n",
       "    </tr>\n",
       "    <tr>\n",
       "      <th>237</th>\n",
       "      <td>4.010</td>\n",
       "      <td>3.23</td>\n",
       "      <td>0.99</td>\n",
       "      <td>4.060</td>\n",
       "      <td>NaN</td>\n",
       "      <td>-0.439292</td>\n",
       "    </tr>\n",
       "    <tr>\n",
       "      <th>240</th>\n",
       "      <td>0.325</td>\n",
       "      <td>0.15</td>\n",
       "      <td>0.06</td>\n",
       "      <td>0.335</td>\n",
       "      <td>NaN</td>\n",
       "      <td>0.259417</td>\n",
       "    </tr>\n",
       "    <tr>\n",
       "      <th>244</th>\n",
       "      <td>1.100</td>\n",
       "      <td>0.86</td>\n",
       "      <td>0.58</td>\n",
       "      <td>1.100</td>\n",
       "      <td>NaN</td>\n",
       "      <td>-0.348792</td>\n",
       "    </tr>\n",
       "    <tr>\n",
       "      <th>227</th>\n",
       "      <td>0.320</td>\n",
       "      <td>0.21</td>\n",
       "      <td>0.17</td>\n",
       "      <td>0.350</td>\n",
       "      <td>NaN</td>\n",
       "      <td>-0.224750</td>\n",
       "    </tr>\n",
       "    <tr>\n",
       "      <th>233</th>\n",
       "      <td>0.285</td>\n",
       "      <td>0.36</td>\n",
       "      <td>0.18</td>\n",
       "      <td>0.285</td>\n",
       "      <td>NaN</td>\n",
       "      <td>-0.143792</td>\n",
       "    </tr>\n",
       "  </tbody>\n",
       "</table>\n",
       "</div>"
      ],
      "text/plain": [
       "     rain_daily_sum  rain_hourly_max  rain_15_min_max  rain_prev_3_days  \\\n",
       "614           2.105             1.15             0.45             2.105   \n",
       "626           0.415             0.53             0.35             0.415   \n",
       "273           0.235             0.07             0.03             0.235   \n",
       "282           0.235             0.06             0.05             0.235   \n",
       "257           1.175             1.28             0.78             1.175   \n",
       "258           0.150             0.14             0.06             1.325   \n",
       "261           0.600             0.35             0.24             0.600   \n",
       "296           0.235             0.17             0.07             0.235   \n",
       "297           2.020             0.61             0.39             2.255   \n",
       "298           0.490             0.34             0.29             2.745   \n",
       "299           0.950             0.48             0.25             3.460   \n",
       "237           4.010             3.23             0.99             4.060   \n",
       "240           0.325             0.15             0.06             0.335   \n",
       "244           1.100             0.86             0.58             1.100   \n",
       "227           0.320             0.21             0.17             0.350   \n",
       "233           0.285             0.36             0.18             0.285   \n",
       "\n",
       "     gw_elev_avg  tide_elev_avg  \n",
       "614          NaN       0.083625  \n",
       "626          NaN      -0.138917  \n",
       "273          NaN       1.250792  \n",
       "282          NaN       0.489250  \n",
       "257          NaN       0.071500  \n",
       "258          NaN       0.251417  \n",
       "261          NaN       0.413375  \n",
       "296          NaN       0.139083  \n",
       "297          NaN       0.454542  \n",
       "298          NaN       0.478750  \n",
       "299          NaN       0.482000  \n",
       "237          NaN      -0.439292  \n",
       "240          NaN       0.259417  \n",
       "244          NaN      -0.348792  \n",
       "227          NaN      -0.224750  \n",
       "233          NaN      -0.143792  "
      ]
     },
     "execution_count": 6,
     "metadata": {},
     "output_type": "execute_result"
    }
   ],
   "source": [
    "n = feat_df.isnull().any(axis=1)\n",
    "print sum(n)\n",
    "feat_df[n]"
   ]
  },
  {
   "cell_type": "markdown",
   "metadata": {
    "deletable": true,
    "editable": true
   },
   "source": [
    "There is a bunch of shallow well depth data missing. Here's some more investigation:"
   ]
  },
  {
   "cell_type": "code",
   "execution_count": 7,
   "metadata": {
    "collapsed": false,
    "deletable": true,
    "editable": true
   },
   "outputs": [
    {
     "name": "stdout",
     "output_type": "stream",
     "text": [
      "3845\n",
      "60120\n",
      "0.0639554224884\n"
     ]
    },
    {
     "data": {
      "image/png": "[encoded data removed]",
      "text/plain": [
       "<matplotlib.figure.Figure at 0x7f554b5e0ed0>"
      ]
     },
     "metadata": {},
     "output_type": "display_data"
    }
   ],
   "source": [
    "gw_df = get_table_for_variable('groundwater')\n",
    "gw_df['Value'].plot()\n",
    "print sum(gw_df['Value'].isnull())\n",
    "print len(gw_df)\n",
    "print 3845./60120"
   ]
  },
  {
   "cell_type": "markdown",
   "metadata": {
    "deletable": true,
    "editable": true
   },
   "source": [
    "So approximately 6% of the gw data is NaN and from the figure a lot of that lookds like it happens at once like for a few months about 2/3 through 2010. I guess we just drop those ones."
   ]
  },
  {
   "cell_type": "code",
   "execution_count": 8,
   "metadata": {
    "collapsed": false,
    "deletable": true,
    "editable": true
   },
   "outputs": [],
   "source": [
    "df_filt = df[df['gw_elev_avg'].isnull()!= True]\n",
    "df_filt.reset_index(inplace=True)\n",
    "feat_df = df_filt.iloc[:, 1:7]"
   ]
  },
  {
   "cell_type": "code",
   "execution_count": 9,
   "metadata": {
    "collapsed": true,
    "deletable": true,
    "editable": true
   },
   "outputs": [],
   "source": [
    "pca = PCA()"
   ]
  },
  {
   "cell_type": "code",
   "execution_count": 10,
   "metadata": {
    "collapsed": false,
    "deletable": true,
    "editable": true
   },
   "outputs": [
    {
     "data": {
      "text/plain": [
       "array([ 0.55215018,  0.2463997 ,  0.0847108 ,  0.06809952,  0.04622979,\n",
       "        0.00241002])"
      ]
     },
     "execution_count": 10,
     "metadata": {},
     "output_type": "execute_result"
    }
   ],
   "source": [
    "p = pca.fit(feat_df)\n",
    "p.explained_variance_ratio_"
   ]
  },
  {
   "cell_type": "code",
   "execution_count": 11,
   "metadata": {
    "collapsed": false,
    "deletable": true,
    "editable": true,
    "scrolled": true
   },
   "outputs": [
    {
     "data": {
      "text/plain": [
       "476"
      ]
     },
     "execution_count": 11,
     "metadata": {},
     "output_type": "execute_result"
    }
   ],
   "source": [
    "p_vis = pca.fit_transform(feat_df)\n",
    "df_pca = pd.DataFrame(p_vis)\n",
    "df_filt[df_filt.flooded].index.min()"
   ]
  },
  {
   "cell_type": "code",
   "execution_count": 12,
   "metadata": {
    "collapsed": false,
    "deletable": true,
    "editable": true
   },
   "outputs": [
    {
     "data": {
      "image/png": "[encoded data removed]",
      "text/plain": [
       "<matplotlib.figure.Figure at 0x7f554b52fd90>"
      ]
     },
     "metadata": {},
     "output_type": "display_data"
    }
   ],
   "source": [
    "fig = plt.figure()\n",
    "ax = fig.add_subplot(111, projection='3d')\n",
    "nfl = ax.scatter(df_pca.loc[:476,0], df_pca.loc[:476, 1], df_pca.loc[:476, 2], c='#4286f4', label='Non-flooded', s=30)\n",
    "fl = ax.scatter(df_pca.loc[476:,0], df_pca.loc[476:, 1], df_pca.loc[476:, 2], c='#ed2f1a', s=30+df_filt.loc[476:, 'num_flooded']*6, label='Flooded')\n",
    "ax.set_ylabel('Principal Component 2', fontsize=16)\n",
    "ax.set_xlabel('Principal Component 1',  fontsize=16)\n",
    "ax.set_zlabel('Principal Component 3',  fontsize=16)\n",
    "ax.set_xticks(())\n",
    "ax.set_zticks(())\n",
    "ax.set_yticks(())\n",
    "ax.tick_params(labelsize=16)\n",
    "legend = ax.legend(fontsize=16, handler_map={fl: HandlerPathCollection(sizes=[100]), nfl: HandlerPathCollection(sizes=[100])})\n",
    "fig.tight_layout()\n",
    "fig.savefig('{}pc.png'.format(fig_dir), dpi=300)"
   ]
  },
  {
   "cell_type": "markdown",
   "metadata": {
    "deletable": true,
    "editable": true
   },
   "source": [
    "I'm interested in the non-flooding points that are far away from the rest of the group."
   ]
  },
  {
   "cell_type": "code",
   "execution_count": 13,
   "metadata": {
    "collapsed": false,
    "deletable": true,
    "editable": true
   },
   "outputs": [
    {
     "data": {
      "text/plain": [
       "Int64Index([48, 163, 485, 500], dtype='int64')"
      ]
     },
     "execution_count": 13,
     "metadata": {},
     "output_type": "execute_result"
    }
   ],
   "source": [
    "high_pc1 = df_pca[df_pca[0]>8].index\n",
    "high_pc1"
   ]
  },
  {
   "cell_type": "code",
   "execution_count": 14,
   "metadata": {
    "collapsed": false,
    "deletable": true,
    "editable": true
   },
   "outputs": [],
   "source": [
    "def plot_features(record_indicies, df):\n",
    "    ax = df.iloc[record_indicies, [1, 2, 3, 4, 5, 6]].plot.bar(fontsize=14, rot=15, legend=False, figsize=(7, 5.5))\n",
    "    patches, labels = ax.get_legend_handles_labels()\n",
    "    label_units = ([' (in)', ' (in)', ' (in)', ' (in)', ' (ft)', ' (ft)'])\n",
    "    labels = map(add, labels, label_units)\n",
    "    ax.legend(patches, labels, bbox_to_anchor=(1.05, 1), loc=2, borderaxespad=0., fontsize=14)\n",
    "    print df.loc[record_indicies]\n",
    "    ax.set_xticklabels(\n",
    "        df.loc[record_indicies, 'event_name']+\"\\n\"+ \"(\" +  df.loc[record_indicies, 'num_flooded'].astype(str)+\")\"\n",
    "    )\n",
    "    ax.set_xlabel('Event name \\n (# locations flooded)', fontsize=14)\n",
    "    fig  = plt.gcf()\n",
    "    fig.tight_layout()"
   ]
  },
  {
   "cell_type": "code",
   "execution_count": 15,
   "metadata": {
    "collapsed": false,
    "deletable": true,
    "editable": true
   },
   "outputs": [
    {
     "name": "stdout",
     "output_type": "stream",
     "text": [
      "     index  rain_daily_sum  rain_hourly_max  rain_15_min_max  \\\n",
      "48    1702           7.510             9.30             3.50   \n",
      "163   2435           4.335             1.47             0.60   \n",
      "485      1           7.820             1.22             0.33   \n",
      "500      0          10.255             1.59             0.67   \n",
      "\n",
      "     rain_prev_3_days  gw_elev_avg  tide_elev_avg  num_flooded flooded  \\\n",
      "48           8.826667     1.487029       0.284375          0.0   False   \n",
      "163          9.502500     3.432301       0.956542          0.0   False   \n",
      "485          8.245000     1.033844       1.493500         32.0    True   \n",
      "500         11.695000     1.447289       1.111472         48.0    True   \n",
      "\n",
      "    event_name  event_date  \n",
      "48         NaN  2014-08-18  \n",
      "163        NaN  2016-09-21  \n",
      "485      Irene  2011-08-27  \n",
      "500     Nicole  2010-09-30  \n"
     ]
    },
    {
     "data": {
      "text/html": [
       "<div>\n",
       "<table border=\"1\" class=\"dataframe\">\n",
       "  <thead>\n",
       "    <tr style=\"text-align: right;\">\n",
       "      <th></th>\n",
       "      <th>index</th>\n",
       "      <th>rain_daily_sum</th>\n",
       "      <th>rain_hourly_max</th>\n",
       "      <th>rain_15_min_max</th>\n",
       "      <th>rain_prev_3_days</th>\n",
       "      <th>gw_elev_avg</th>\n",
       "      <th>tide_elev_avg</th>\n",
       "      <th>num_flooded</th>\n",
       "      <th>flooded</th>\n",
       "      <th>event_name</th>\n",
       "      <th>event_date</th>\n",
       "    </tr>\n",
       "  </thead>\n",
       "  <tbody>\n",
       "    <tr>\n",
       "      <th>48</th>\n",
       "      <td>1702</td>\n",
       "      <td>7.510</td>\n",
       "      <td>9.30</td>\n",
       "      <td>3.50</td>\n",
       "      <td>8.826667</td>\n",
       "      <td>1.487029</td>\n",
       "      <td>0.284375</td>\n",
       "      <td>0.0</td>\n",
       "      <td>False</td>\n",
       "      <td>NaN</td>\n",
       "      <td>2014-08-18</td>\n",
       "    </tr>\n",
       "    <tr>\n",
       "      <th>163</th>\n",
       "      <td>2435</td>\n",
       "      <td>4.335</td>\n",
       "      <td>1.47</td>\n",
       "      <td>0.60</td>\n",
       "      <td>9.502500</td>\n",
       "      <td>3.432301</td>\n",
       "      <td>0.956542</td>\n",
       "      <td>0.0</td>\n",
       "      <td>False</td>\n",
       "      <td>NaN</td>\n",
       "      <td>2016-09-21</td>\n",
       "    </tr>\n",
       "    <tr>\n",
       "      <th>485</th>\n",
       "      <td>1</td>\n",
       "      <td>7.820</td>\n",
       "      <td>1.22</td>\n",
       "      <td>0.33</td>\n",
       "      <td>8.245000</td>\n",
       "      <td>1.033844</td>\n",
       "      <td>1.493500</td>\n",
       "      <td>32.0</td>\n",
       "      <td>True</td>\n",
       "      <td>Irene</td>\n",
       "      <td>2011-08-27</td>\n",
       "    </tr>\n",
       "    <tr>\n",
       "      <th>500</th>\n",
       "      <td>0</td>\n",
       "      <td>10.255</td>\n",
       "      <td>1.59</td>\n",
       "      <td>0.67</td>\n",
       "      <td>11.695000</td>\n",
       "      <td>1.447289</td>\n",
       "      <td>1.111472</td>\n",
       "      <td>48.0</td>\n",
       "      <td>True</td>\n",
       "      <td>Nicole</td>\n",
       "      <td>2010-09-30</td>\n",
       "    </tr>\n",
       "  </tbody>\n",
       "</table>\n",
       "</div>"
      ],
      "text/plain": [
       "     index  rain_daily_sum  rain_hourly_max  rain_15_min_max  \\\n",
       "48    1702           7.510             9.30             3.50   \n",
       "163   2435           4.335             1.47             0.60   \n",
       "485      1           7.820             1.22             0.33   \n",
       "500      0          10.255             1.59             0.67   \n",
       "\n",
       "     rain_prev_3_days  gw_elev_avg  tide_elev_avg  num_flooded flooded  \\\n",
       "48           8.826667     1.487029       0.284375          0.0   False   \n",
       "163          9.502500     3.432301       0.956542          0.0   False   \n",
       "485          8.245000     1.033844       1.493500         32.0    True   \n",
       "500         11.695000     1.447289       1.111472         48.0    True   \n",
       "\n",
       "    event_name  event_date  \n",
       "48         NaN  2014-08-18  \n",
       "163        NaN  2016-09-21  \n",
       "485      Irene  2011-08-27  \n",
       "500     Nicole  2010-09-30  "
      ]
     },
     "execution_count": 15,
     "metadata": {},
     "output_type": "execute_result"
    },
    {
     "data": {
      "image/png": "[encoded data removed]",
      "text/plain": [
       "<matplotlib.figure.Figure at 0x7f554719a090>"
      ]
     },
     "metadata": {},
     "output_type": "display_data"
    }
   ],
   "source": [
    "plot_features(high_pc1, df_filt)\n",
    "df_filt.loc[high_pc1]"
   ]
  },
  {
   "cell_type": "code",
   "execution_count": 16,
   "metadata": {
    "collapsed": true,
    "deletable": true,
    "editable": true
   },
   "outputs": [],
   "source": [
    "rain_df = get_table_for_variable('rainfall')"
   ]
  },
  {
   "cell_type": "code",
   "execution_count": 17,
   "metadata": {
    "collapsed": false,
    "deletable": true,
    "editable": true
   },
   "outputs": [
    {
     "data": {
      "image/png": "[encoded data removed]",
      "text/plain": [
       "<matplotlib.figure.Figure at 0x7f5547312690>"
      ]
     },
     "metadata": {},
     "output_type": "display_data"
    }
   ],
   "source": [
    "ax2 = rain_df['2014-08-18'].groupby('SiteID').sum()['Value'].plot.bar(figsize=(5,4), fontsize=14, title='2014-08-18')\n",
    "ax2.set_ylabel('Daily rainfall (in)')\n",
    "ax2.yaxis.label.set_size(14)\n",
    "ax2.xaxis.label.set_size(14)\n",
    "ax2.title.set_size(14)"
   ]
  },
  {
   "cell_type": "code",
   "execution_count": 18,
   "metadata": {
    "collapsed": false,
    "deletable": true,
    "editable": true
   },
   "outputs": [
    {
     "name": "stdout",
     "output_type": "stream",
     "text": [
      "     index  rain_daily_sum  rain_hourly_max  rain_15_min_max  \\\n",
      "153   2206          1.3500             0.57             0.18   \n",
      "155   2217          0.7825             0.21             0.10   \n",
      "491     17          0.9550             0.70             0.36   \n",
      "492     18          1.6225             0.57             0.18   \n",
      "152   2202          0.5075             0.20             0.07   \n",
      "498     27          7.6125             1.43             0.51   \n",
      "\n",
      "     rain_prev_3_days  gw_elev_avg  tide_elev_avg  num_flooded flooded  \\\n",
      "153      1.350000e+00     6.997553       0.138792          0.0   False   \n",
      "155      3.872500e+00     6.356799       0.347042          0.0   False   \n",
      "491      2.305000e+00     4.987574       0.535250          9.0    True   \n",
      "492      3.117500e+00     4.853232       0.443903          2.0    True   \n",
      "152      1.825000e+00     4.734056       0.833542          0.0   False   \n",
      "498     -4.996004e-16     4.794867       1.701608         17.0    True   \n",
      "\n",
      "             event_name  event_date  \n",
      "153                 NaN  2016-01-22  \n",
      "155                 NaN  2016-02-05  \n",
      "491  Jan Winter Weather  2016-01-20  \n",
      "492             unnamed  2016-02-01  \n",
      "152                 NaN  2016-01-17  \n",
      "498   Hurricane Matthew  2016-10-05  \n"
     ]
    },
    {
     "data": {
      "image/png": "[encoded data removed]",
      "text/plain": [
       "<matplotlib.figure.Figure at 0x7f554a604a90>"
      ]
     },
     "metadata": {},
     "output_type": "display_data"
    }
   ],
   "source": [
    "high_pc2 = df_pca.sort_values(1, ascending=False).index[:6]\n",
    "plot_features(high_pc2, df_filt)\n",
    "# df_filt.loc[high_pc2, :]"
   ]
  }
 ],
 "metadata": {
  "kernelspec": {
   "display_name": "Python 2",
   "language": "python",
   "name": "python2"
  },
  "language_info": {
   "codemirror_mode": {
    "name": "ipython",
    "version": 2
   },
   "file_extension": ".py",
   "mimetype": "text/x-python",
   "name": "python",
   "nbconvert_exporter": "python",
   "pygments_lexer": "ipython2",
   "version": "2.7.12"
  }
 },
 "nbformat": 4,
 "nbformat_minor": 2
}
