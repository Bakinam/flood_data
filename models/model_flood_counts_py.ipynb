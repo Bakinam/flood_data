{
 "cells": [
  {
   "cell_type": "code",
   "execution_count": 15,
   "metadata": {
    "collapsed": false
   },
   "outputs": [],
   "source": [
    "%matplotlib inline\n",
    "from sklearn.ensemble import RandomForestRegressor\n",
    "from sklearn.neural_network import MLPRegressor\n",
    "from sklearn.model_selection import train_test_split\n",
    "from sklearn.model_selection import cross_val_score\n",
    "from sklearn.metrics import mean_absolute_error\n",
    "from sklearn.metrics import mean_squared_error\n",
    "from sklearn.metrics import r2_score\n",
    "from sklearn.svm import SVR\n",
    "from sklearn.model_selection import cross_val_predict\n",
    "import os\n",
    "import sys\n",
    "module_path = os.path.abspath(os.path.join('..'))\n",
    "if module_path not in sys.path:\n",
    "    sys.path.append(module_path)\n",
    "from db_scripts.main_db_script import db_filename\n",
    "from hr_db_scripts.main_db_script import get_db_table_as_df\n",
    "import pandas as pd\n",
    "import numpy as np\n",
    "import matplotlib.pyplot as plt"
   ]
  },
  {
   "cell_type": "code",
   "execution_count": 2,
   "metadata": {
    "collapsed": true
   },
   "outputs": [],
   "source": [
    "df = get_db_table_as_df('for_model_avgs', dbfilename=db_filename)"
   ]
  },
  {
   "cell_type": "code",
   "execution_count": 3,
   "metadata": {
    "collapsed": false
   },
   "outputs": [
    {
     "name": "stdout",
     "output_type": "stream",
     "text": [
      "(2172, 20)\n"
     ]
    },
    {
     "data": {
      "text/plain": [
       "(818, 20)"
      ]
     },
     "execution_count": 3,
     "metadata": {},
     "output_type": "execute_result"
    }
   ],
   "source": [
    "print df.shape\n",
    "df = df[df.rd>0.01]\n",
    "df.shape"
   ]
  },
  {
   "cell_type": "code",
   "execution_count": 4,
   "metadata": {
    "collapsed": true
   },
   "outputs": [],
   "source": [
    "out_col = 'num_flooded'\n",
    "in_cols = [a for a in df.columns if a not in ['event_date', 'event_name', out_col]]"
   ]
  },
  {
   "cell_type": "code",
   "execution_count": 5,
   "metadata": {
    "collapsed": false,
    "scrolled": true
   },
   "outputs": [
    {
     "data": {
      "text/plain": [
       "(812, 20)"
      ]
     },
     "execution_count": 5,
     "metadata": {},
     "output_type": "execute_result"
    }
   ],
   "source": [
    "df[in_cols]\n",
    "df = df[pd.isnull(df[in_cols]).sum(1)==0]\n",
    "df.shape"
   ]
  },
  {
   "cell_type": "code",
   "execution_count": 6,
   "metadata": {
    "collapsed": false
   },
   "outputs": [
    {
     "data": {
      "text/plain": [
       "RandomForestRegressor(bootstrap=True, criterion='mse', max_depth=None,\n",
       "           max_features=0.33, max_leaf_nodes=None,\n",
       "           min_impurity_split=1e-07, min_samples_leaf=1,\n",
       "           min_samples_split=2, min_weight_fraction_leaf=0.0,\n",
       "           n_estimators=1000, n_jobs=1, oob_score=True, random_state=None,\n",
       "           verbose=0, warm_start=False)"
      ]
     },
     "execution_count": 6,
     "metadata": {},
     "output_type": "execute_result"
    }
   ],
   "source": [
    "reg = RandomForestRegressor(oob_score=True, n_estimators=1000, max_features=0.33)\n",
    "reg.fit(df[in_cols], df[out_col])"
   ]
  },
  {
   "cell_type": "code",
   "execution_count": 7,
   "metadata": {
    "collapsed": false
   },
   "outputs": [
    {
     "name": "stdout",
     "output_type": "stream",
     "text": [
      "0.979657518884\n",
      "0.291208128079\n",
      "2.21649504557\n"
     ]
    }
   ],
   "source": [
    "preds = reg.predict(df[in_cols])\n",
    "print r2_score(df.num_flooded, preds)\n",
    "print mean_absolute_error(df.num_flooded, preds)\n",
    "print mean_squared_error(df.num_flooded, preds)"
   ]
  },
  {
   "cell_type": "code",
   "execution_count": 8,
   "metadata": {
    "collapsed": false
   },
   "outputs": [
    {
     "data": {
      "text/plain": [
       "(0, 166.95000000000002)"
      ]
     },
     "execution_count": 8,
     "metadata": {},
     "output_type": "execute_result"
    },
    {
     "data": {
      "image/png": "[encoded data removed]",
      "text/plain": [
       "<matplotlib.figure.Figure at 0xe927630>"
      ]
     },
     "metadata": {},
     "output_type": "display_data"
    }
   ],
   "source": [
    "maxval = df[out_col].max()\n",
    "fig, ax = plt.subplots(1)\n",
    "ax.plot([0,180], [0,180], c='gray', lw=1)\n",
    "ax.scatter(df.num_flooded, preds, facecolors='none', edgecolors='royalblue', marker='v', label='Training')\n",
    "ax.scatter(df.num_flooded, reg.oob_prediction_, marker='o', facecolors='none', edgecolors='sienna', label='Out of bag')\n",
    "ax.legend(frameon=False)\n",
    "ax.set_aspect('equal', adjustable='box-forced')\n",
    "ax.set_xticks(np.arange(0, maxval*2, 25))\n",
    "ax.set_yticks(np.arange(0, maxval*2, 25))\n",
    "ax.set_xlim((0, maxval*1.05))\n",
    "ax.set_ylim((0, maxval*1.05))"
   ]
  },
  {
   "cell_type": "code",
   "execution_count": 9,
   "metadata": {
    "collapsed": false
   },
   "outputs": [
    {
     "data": {
      "text/plain": [
       "<matplotlib.axes._subplots.AxesSubplot at 0xeea6860>"
      ]
     },
     "execution_count": 9,
     "metadata": {},
     "output_type": "execute_result"
    },
    {
     "data": {
      "image/png": "[encoded data removed]",
      "text/plain": [
       "<matplotlib.figure.Figure at 0x4c30a20>"
      ]
     },
     "metadata": {},
     "output_type": "display_data"
    }
   ],
   "source": [
    "pd.Series(data=reg.feature_importances_, index=in_cols).sort_values(ascending=False).plot.bar()"
   ]
  },
  {
   "cell_type": "code",
   "execution_count": 10,
   "metadata": {
    "collapsed": false
   },
   "outputs": [
    {
     "name": "stdout",
     "output_type": "stream",
     "text": [
      "0.840082167515\n",
      "0.799685740748\n",
      "17.4244764632\n"
     ]
    }
   ],
   "source": [
    "print r2_score(df.num_flooded, reg.oob_prediction_)\n",
    "print mean_absolute_error(df.num_flooded, reg.oob_prediction_)\n",
    "print mean_squared_error(df.num_flooded, reg.oob_prediction_)"
   ]
  },
  {
   "cell_type": "markdown",
   "metadata": {},
   "source": [
    "## Cross validation"
   ]
  },
  {
   "cell_type": "code",
   "execution_count": 13,
   "metadata": {
    "collapsed": false
   },
   "outputs": [],
   "source": [
    "models = [SVR(), \n",
    "          RandomForestRegressor(oob_score=True, n_estimators=1000, max_features=0.33), \n",
    "          MLPRegressor()\n",
    "         ]"
   ]
  },
  {
   "cell_type": "code",
   "execution_count": 28,
   "metadata": {
    "collapsed": false
   },
   "outputs": [
    {
     "name": "stdout",
     "output_type": "stream",
     "text": [
      "SVR(C=1.0, cache_size=200, coef0=0.0, degree=3, epsilon=0.1, gamma='auto',\n",
      "  kernel='rbf', max_iter=-1, shrinking=True, tol=0.001, verbose=False)\n",
      "10.4678980782\n",
      "1.42124544109\n",
      "[ -1.09554878e+03  -2.56119198e-02  -2.38188368e-02  -2.27812339e-02\n",
      "  -2.26288871e-02  -2.54702612e-02  -2.73497557e-02  -2.37643856e-02\n",
      "  -2.45360564e-02  -2.41599213e-02]\n",
      "RandomForestRegressor(bootstrap=True, criterion='mse', max_depth=None,\n",
      "           max_features=0.33, max_leaf_nodes=None,\n",
      "           min_impurity_split=1e-07, min_samples_leaf=1,\n",
      "           min_samples_split=2, min_weight_fraction_leaf=0.0,\n",
      "           n_estimators=1000, n_jobs=1, oob_score=True, random_state=None,\n",
      "           verbose=0, warm_start=False)\n",
      "10.5418361655\n",
      "1.58430688046\n",
      "[ -1.09554878e+03  -3.32721329e-01  -2.42226812e+00  -2.63988028e+00\n",
      "  -3.21876879e+00  -8.36591741e-01  -6.63472407e-01  -2.44293121e+00\n",
      "  -2.66912793e+00  -5.28555111e-01]\n",
      "MLPRegressor(activation='relu', alpha=0.0001, batch_size='auto', beta_1=0.9,\n",
      "       beta_2=0.999, early_stopping=False, epsilon=1e-08,\n",
      "       hidden_layer_sizes=(100,), learning_rate='constant',\n",
      "       learning_rate_init=0.001, max_iter=200, momentum=0.9,\n",
      "       nesterovs_momentum=True, power_t=0.5, random_state=None,\n",
      "       shuffle=True, solver='adam', tol=0.0001, validation_fraction=0.1,\n",
      "       verbose=False, warm_start=False)\n",
      "10.6564910745\n",
      "5.10707326303\n",
      "[-1032.61685671   -10.36440438    -8.25465029   -15.21390026   -10.25207145\n",
      "   -13.51392684    -6.02977616   -16.64014214    -9.46182252   -13.26046947]\n"
     ]
    }
   ],
   "source": [
    "for m in models:\n",
    "    scores = cross_val_score(m, df[in_cols], df[out_col], n_jobs=-1, cv=10, scoring='mean_squared_error')\n",
    "    scores1 = cross_val_score(m, df[in_cols], df[out_col], n_jobs=-1, cv=10, scoring='mean_absolute_error')\n",
    "    print m\n",
    "    print abs(scores.mean())**0.5\n",
    "    print abs(scores1.mean())\n",
    "    print scores"
   ]
  },
  {
   "cell_type": "code",
   "execution_count": 82,
   "metadata": {
    "collapsed": false
   },
   "outputs": [
    {
     "data": {
      "text/plain": [
       "0       101.0\n",
       "1         2.0\n",
       "2       110.0\n",
       "3       105.0\n",
       "4        36.0\n",
       "5        35.0\n",
       "6         1.0\n",
       "7         5.0\n",
       "8         8.0\n",
       "9         2.0\n",
       "10       39.0\n",
       "11       18.0\n",
       "12        1.0\n",
       "13        5.0\n",
       "14       31.0\n",
       "15        3.0\n",
       "16        1.0\n",
       "17        2.0\n",
       "18        1.0\n",
       "19        4.0\n",
       "20       10.0\n",
       "21        7.0\n",
       "22       10.0\n",
       "23        1.0\n",
       "25       16.0\n",
       "26      159.0\n",
       "27        1.0\n",
       "28        3.0\n",
       "29        6.0\n",
       "30       26.0\n",
       "        ...  \n",
       "2082      0.0\n",
       "2084      0.0\n",
       "2085      0.0\n",
       "2086      0.0\n",
       "2087      0.0\n",
       "2089      0.0\n",
       "2090      0.0\n",
       "2091      0.0\n",
       "2094      0.0\n",
       "2097      0.0\n",
       "2098      0.0\n",
       "2099      0.0\n",
       "2100      0.0\n",
       "2110      0.0\n",
       "2111      0.0\n",
       "2112      0.0\n",
       "2115      0.0\n",
       "2118      0.0\n",
       "2119      0.0\n",
       "2125      0.0\n",
       "2129      0.0\n",
       "2131      0.0\n",
       "2142      0.0\n",
       "2146      0.0\n",
       "2161      0.0\n",
       "2162      0.0\n",
       "2163      0.0\n",
       "2165      0.0\n",
       "2166      0.0\n",
       "2168      0.0\n",
       "Name: num_flooded, Length: 812, dtype: float64"
      ]
     },
     "execution_count": 82,
     "metadata": {},
     "output_type": "execute_result"
    }
   ],
   "source": [
    "df[out_col]"
   ]
  },
  {
   "cell_type": "code",
   "execution_count": 92,
   "metadata": {
    "collapsed": false
   },
   "outputs": [
    {
     "data": {
      "text/plain": [
       "26    159.0\n",
       "43    111.0\n",
       "2     110.0\n",
       "3     105.0\n",
       "0     101.0\n",
       "42    101.0\n",
       "40     40.0\n",
       "10     39.0\n",
       "4      36.0\n",
       "5      35.0\n",
       "Name: num_flooded, dtype: float64"
      ]
     },
     "execution_count": 92,
     "metadata": {},
     "output_type": "execute_result"
    }
   ],
   "source": [
    "df[out_col].sort_values(ascending=False)[:10]"
   ]
  },
  {
   "cell_type": "code",
   "execution_count": 159,
   "metadata": {
    "collapsed": true
   },
   "outputs": [],
   "source": [
    "bins = np.linspace(0, 100, 4)"
   ]
  },
  {
   "cell_type": "code",
   "execution_count": 160,
   "metadata": {
    "collapsed": false
   },
   "outputs": [
    {
     "data": {
      "text/plain": [
       "array([   0.        ,   33.33333333,   66.66666667,  100.        ])"
      ]
     },
     "execution_count": 160,
     "metadata": {},
     "output_type": "execute_result"
    }
   ],
   "source": [
    "bins"
   ]
  },
  {
   "cell_type": "code",
   "execution_count": 161,
   "metadata": {
    "collapsed": true
   },
   "outputs": [],
   "source": [
    "y_binned = np.digitize(df[out_col], bins)"
   ]
  },
  {
   "cell_type": "code",
   "execution_count": 162,
   "metadata": {
    "collapsed": false
   },
   "outputs": [
    {
     "data": {
      "text/plain": [
       "1    802\n",
       "4      6\n",
       "2      4\n",
       "dtype: int64"
      ]
     },
     "execution_count": 162,
     "metadata": {},
     "output_type": "execute_result"
    }
   ],
   "source": [
    "pd.Series(y_binned, dtype='category').value_counts()"
   ]
  },
  {
   "cell_type": "code",
   "execution_count": 156,
   "metadata": {
    "collapsed": false
   },
   "outputs": [],
   "source": [
    "x_train, x_test, y_train, y_test = train_test_split(df[in_cols], df[out_col], stratify = y_binned, test_size = 0.3)"
   ]
  },
  {
   "cell_type": "code",
   "execution_count": 157,
   "metadata": {
    "collapsed": false
   },
   "outputs": [
    {
     "data": {
      "text/plain": [
       "40       40.0\n",
       "494       0.0\n",
       "2131      0.0\n",
       "1634      0.0\n",
       "17        2.0\n",
       "707       0.0\n",
       "393       0.0\n",
       "2050      0.0\n",
       "1311      0.0\n",
       "401       0.0\n",
       "416       0.0\n",
       "1094      0.0\n",
       "1338      0.0\n",
       "1832      0.0\n",
       "236       0.0\n",
       "0       101.0\n",
       "464       0.0\n",
       "22       10.0\n",
       "1789      0.0\n",
       "379       0.0\n",
       "259       0.0\n",
       "337       0.0\n",
       "1500      0.0\n",
       "91        0.0\n",
       "410       0.0\n",
       "1015      0.0\n",
       "718       0.0\n",
       "1235      0.0\n",
       "1563      0.0\n",
       "5        35.0\n",
       "        ...  \n",
       "604       0.0\n",
       "246       0.0\n",
       "887       0.0\n",
       "873       0.0\n",
       "1660      0.0\n",
       "1857      0.0\n",
       "1878      0.0\n",
       "451       0.0\n",
       "1226      0.0\n",
       "202       0.0\n",
       "875       0.0\n",
       "1448      0.0\n",
       "1482      0.0\n",
       "1145      0.0\n",
       "562       0.0\n",
       "2111      0.0\n",
       "1889      0.0\n",
       "1146      0.0\n",
       "690       0.0\n",
       "2044      0.0\n",
       "2087      0.0\n",
       "42      101.0\n",
       "685       0.0\n",
       "1151      0.0\n",
       "517       0.0\n",
       "1684      0.0\n",
       "84        0.0\n",
       "203       0.0\n",
       "1664      0.0\n",
       "309       0.0\n",
       "Name: num_flooded, Length: 568, dtype: float64"
      ]
     },
     "execution_count": 157,
     "metadata": {},
     "output_type": "execute_result"
    }
   ],
   "source": [
    "y_train"
   ]
  },
  {
   "cell_type": "code",
   "execution_count": 158,
   "metadata": {
    "collapsed": false
   },
   "outputs": [
    {
     "data": {
      "text/plain": [
       "2110      0.0\n",
       "1647      0.0\n",
       "2089      0.0\n",
       "591       0.0\n",
       "918       0.0\n",
       "2057      0.0\n",
       "1489      0.0\n",
       "645       0.0\n",
       "1100      0.0\n",
       "352       0.0\n",
       "1756      0.0\n",
       "2077      0.0\n",
       "1086      0.0\n",
       "1820      0.0\n",
       "1179      0.0\n",
       "26      159.0\n",
       "2021      0.0\n",
       "1535      0.0\n",
       "411       0.0\n",
       "2004      0.0\n",
       "1049      0.0\n",
       "1757      0.0\n",
       "656       0.0\n",
       "82        0.0\n",
       "1219      0.0\n",
       "789       0.0\n",
       "1629      0.0\n",
       "736       0.0\n",
       "2028      0.0\n",
       "1355      0.0\n",
       "        ...  \n",
       "31        5.0\n",
       "121       0.0\n",
       "1638      0.0\n",
       "1217      0.0\n",
       "2058      0.0\n",
       "30       26.0\n",
       "1750      0.0\n",
       "1679      0.0\n",
       "12        1.0\n",
       "682       0.0\n",
       "1190      0.0\n",
       "992       0.0\n",
       "717       0.0\n",
       "639       0.0\n",
       "1971      0.0\n",
       "2005      0.0\n",
       "315       0.0\n",
       "1430      0.0\n",
       "936       0.0\n",
       "55        0.0\n",
       "1822      0.0\n",
       "1493      0.0\n",
       "372       0.0\n",
       "2027      0.0\n",
       "581       0.0\n",
       "158       0.0\n",
       "241       0.0\n",
       "1113      0.0\n",
       "1499      0.0\n",
       "245       0.0\n",
       "Name: num_flooded, Length: 244, dtype: float64"
      ]
     },
     "execution_count": 158,
     "metadata": {},
     "output_type": "execute_result"
    }
   ],
   "source": [
    "y_test"
   ]
  },
  {
   "cell_type": "code",
   "execution_count": null,
   "metadata": {
    "collapsed": true
   },
   "outputs": [],
   "source": []
  }
 ],
 "metadata": {
  "kernelspec": {
   "display_name": "Python 2",
   "language": "python",
   "name": "python2"
  },
  "language_info": {
   "codemirror_mode": {
    "name": "ipython",
    "version": 2
   },
   "file_extension": ".py",
   "mimetype": "text/x-python",
   "name": "python",
   "nbconvert_exporter": "python",
   "pygments_lexer": "ipython2",
   "version": "2.7.13"
  }
 },
 "nbformat": 4,
 "nbformat_minor": 2
}
