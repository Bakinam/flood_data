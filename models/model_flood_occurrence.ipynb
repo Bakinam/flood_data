{
 "cells": [
  {
   "cell_type": "markdown",
   "metadata": {},
   "source": [
    "# Predicting flood occurrence\n",
    "Flood occurrences in downtown Norfolk are predicted based on rain, tide levels, water table levels, and wind speed/direction. "
   ]
  },
  {
   "cell_type": "code",
   "execution_count": 1,
   "metadata": {
    "collapsed": false
   },
   "outputs": [
    {
     "name": "stderr",
     "output_type": "stream",
     "text": [
      "Warning message:\n",
      "\"package 'caret' was built under R version 3.3.3\"Loading required package: lattice\n",
      "Loading required package: ggplot2\n",
      "Warning message:\n",
      "\"package 'ggplot2' was built under R version 3.3.3\"Warning message:\n",
      "\"package 'ggfortify' was built under R version 3.3.3\"Warning message:\n",
      "\"package 'rpart.plot' was built under R version 3.3.3\"Warning message:\n",
      "\"package 'RSQLite' was built under R version 3.3.3\"Warning message:\n",
      "\"package 'DBI' was built under R version 3.3.3\"Warning message:\n",
      "\"package 'randomForest' was built under R version 3.3.3\"randomForest 4.6-12\n",
      "Type rfNews() to see new features/changes/bug fixes.\n",
      "\n",
      "Attaching package: 'randomForest'\n",
      "\n",
      "The following object is masked from 'package:ggplot2':\n",
      "\n",
      "    margin\n",
      "\n",
      "Warning message:\n",
      "\"package 'e1071' was built under R version 3.3.3\""
     ]
    }
   ],
   "source": [
    "repo = \"http://cran.us.r-project.org\"\n",
    "library(caret)\n",
    "library(ggfortify)\n",
    "library(rpart)\n",
    "library(rpart.plot)\n",
    "library(RSQLite)\n",
    "library(DBI)\n",
    "library(randomForest)\n",
    "library(e1071)\n",
    "library(class)"
   ]
  },
  {
   "cell_type": "code",
   "execution_count": 2,
   "metadata": {
    "collapsed": true
   },
   "outputs": [],
   "source": [
    "classify_knn = function(pca.data, obs_data, point, k){\n",
    "  neighs = get_nn(pca.data, point, k)\n",
    "  neigh_data = obs_data[neighs,]\n",
    "  return(names(which.max(table(neigh_data$fld))))\n",
    "}"
   ]
  },
  {
   "cell_type": "code",
   "execution_count": 3,
   "metadata": {
    "collapsed": true
   },
   "outputs": [],
   "source": [
    "get_nn = function(d, point, k){\n",
    "  point = d[point, ]\n",
    "  dists = sort(sqrt(rowSums((t(t(d) - point))^2)))\n",
    "  close_points = names(dists)[2:k]\n",
    "  return(close_points)\n",
    "}"
   ]
  },
  {
   "cell_type": "code",
   "execution_count": 4,
   "metadata": {
    "collapsed": true
   },
   "outputs": [],
   "source": [
    "base_dir<- \"C:/Users/Jeff/Documents/research/Sadler_3rdPaper/manuscript/\"\n",
    "data_dir<- paste(base_dir, \"Data/\", sep=\"\")\n",
    "fig_dir <- paste(base_dir, \"Figures/general/\", sep=\"\")\n",
    "db_filename <- \"floodData.sqlite\""
   ]
  },
  {
   "cell_type": "code",
   "execution_count": 5,
   "metadata": {
    "collapsed": false
   },
   "outputs": [],
   "source": [
    "con = dbConnect(RSQLite::SQLite(), dbname=paste(data_dir, db_filename, sep=\"\"))"
   ]
  },
  {
   "cell_type": "code",
   "execution_count": 6,
   "metadata": {
    "collapsed": true
   },
   "outputs": [],
   "source": [
    "df = dbReadTable(con, 'for_model')\n",
    "df = subset(df, rain_daily_sum>0.1) # only look at days that have over 0.1 in of rainfall\n",
    "df = df[!is.na(df$gw_daily_avg),] # remove null gw values\n",
    "short_names = c('rd', 'rhr', 'rhmxtime', 'r15', 'r15mxtime', 'r3d', 'gw', 'td', 'tr15mx', 'trhrmx', 'wdd', 'wvd',  'wvh', 'nfld', 'fld', 'evnme', 'evdte')\n",
    "colnames(df) = short_names"
   ]
  },
  {
   "cell_type": "code",
   "execution_count": 7,
   "metadata": {
    "collapsed": true
   },
   "outputs": [],
   "source": [
    "in_col_names = c('rd', 'rhr', 'r15', 'r3d', 'gw', 'td', 'wvd', 'tr15mx', 'trhrmx')\n",
    "out_col_name = 'fld'\n",
    "model_data = df[, c(in_col_names, out_col_name)]\n",
    "model_data$fld = df$fld>0\n",
    "model_data$fld = factor(model_data$fld)"
   ]
  },
  {
   "cell_type": "markdown",
   "metadata": {},
   "source": [
    "### Partition data into training and testing sets"
   ]
  },
  {
   "cell_type": "code",
   "execution_count": 8,
   "metadata": {
    "collapsed": false
   },
   "outputs": [],
   "source": [
    "prt = createDataPartition(model_data$fld, p=0.7)\n",
    "train_ind = prt$Resample1"
   ]
  },
  {
   "cell_type": "markdown",
   "metadata": {},
   "source": [
    "### Scale data"
   ]
  },
  {
   "cell_type": "code",
   "execution_count": 9,
   "metadata": {
    "collapsed": true
   },
   "outputs": [],
   "source": [
    "train_in_data = model_data[train_ind, in_col_names]\n",
    "test_in_data = model_data[-train_ind, in_col_names]"
   ]
  },
  {
   "cell_type": "code",
   "execution_count": 10,
   "metadata": {
    "collapsed": true
   },
   "outputs": [],
   "source": [
    "train_col_stds = apply(train_in_data, 2, sd)\n",
    "train_col_means = colMeans(train_in_data)"
   ]
  },
  {
   "cell_type": "code",
   "execution_count": 11,
   "metadata": {
    "collapsed": false
   },
   "outputs": [],
   "source": [
    "train_normalized = t((t(train_in_data)-train_col_means)/train_col_stds)\n",
    "test_normalized = t((t(test_in_data)-train_col_means)/train_col_stds)"
   ]
  },
  {
   "cell_type": "markdown",
   "metadata": {},
   "source": [
    "### PCA transform"
   ]
  },
  {
   "cell_type": "code",
   "execution_count": 12,
   "metadata": {
    "collapsed": false
   },
   "outputs": [
    {
     "data": {},
     "metadata": {},
     "output_type": "display_data"
    },
    {
     "data": {
      "image/png": "[encoded data removed]",
      "text/plain": [
       "plot without title"
      ]
     },
     "metadata": {},
     "output_type": "display_data"
    },
    {
     "name": "stdout",
     "output_type": "stream",
     "text": [
      "Standard deviations:\n",
      "[1] 1.7253444 1.5213993 1.1115690 0.9588596 0.7865388 0.7055031 0.5416526\n",
      "[8] 0.2796499 0.2560549\n",
      "\n",
      "Rotation:\n",
      "              PC1        PC2         PC3         PC4         PC5          PC6\n",
      "rd      0.4575263 -0.1363428  0.32442757  0.06317982  0.15939945 -0.124041209\n",
      "rhr     0.4164493 -0.3755602 -0.19779769 -0.16032858 -0.27635162 -0.008344257\n",
      "r15     0.3741623 -0.3767009 -0.28801319 -0.17320606 -0.36029218  0.079709909\n",
      "r3d     0.4029044 -0.1781672  0.26760514  0.06219849  0.63530032 -0.167742666\n",
      "gw     -0.0235433  0.1627390  0.37833539 -0.90771779 -0.01793588  0.065786330\n",
      "td      0.3435118  0.3344620  0.03456892  0.12711601  0.05018923  0.863861496\n",
      "wvd     0.1729583  0.2172901  0.61085230  0.29418326 -0.60122756 -0.196466058\n",
      "tr15mx  0.2912812  0.4809423 -0.31407814 -0.08877019  0.02186938 -0.305312099\n",
      "trhrmx  0.2856506  0.4998487 -0.29144540 -0.04358978  0.00333886 -0.260103760\n",
      "               PC7          PC8          PC9\n",
      "rd      0.77240642 -0.050939035  0.151110903\n",
      "rhr    -0.01503087  0.423692969 -0.603749773\n",
      "r15    -0.19625791 -0.369623751  0.542073788\n",
      "r3d    -0.54621228 -0.018456164 -0.003276817\n",
      "gw     -0.02995558  0.010237232  0.014860016\n",
      "td     -0.03066514 -0.006603198 -0.054970324\n",
      "wvd    -0.24847164 -0.024888955 -0.027477084\n",
      "tr15mx  0.03504798 -0.578478481 -0.384402226\n",
      "trhrmx -0.03864163  0.587811125  0.408698371\n"
     ]
    },
    {
     "data": {
      "image/png": "[encoded data removed]",
      "text/plain": [
       "Plot with title \"pca\""
      ]
     },
     "metadata": {},
     "output_type": "display_data"
    }
   ],
   "source": [
    "pca = prcomp(train_normalized)\n",
    "pca$x = -pca$x\n",
    "pca$rotation=-pca$rotation\n",
    "p = ggplot(pca$x[,c(1,2)], aes(x=PC1, y=PC2, colour=model_data[train_ind, out_col_name], label=rownames(pca$x)))\n",
    "p + geom_point() + geom_text()\n",
    "plot(pca)\n",
    "print(pca)"
   ]
  },
  {
   "cell_type": "code",
   "execution_count": 13,
   "metadata": {
    "collapsed": false
   },
   "outputs": [],
   "source": [
    "trn_preprocessed = predict(pca, train_normalized)\n",
    "tst_preprocessed = predict(pca, test_normalized)\n",
    "trn_in = trn_preprocessed\n",
    "tst_in = tst_preprocessed"
   ]
  },
  {
   "cell_type": "code",
   "execution_count": 14,
   "metadata": {
    "collapsed": false
   },
   "outputs": [
    {
     "data": {
      "text/plain": [
       "fld ~ PC1 + PC2 + PC3 + PC4 + PC5 + PC6 + PC7 + PC8 + PC9"
      ]
     },
     "metadata": {},
     "output_type": "display_data"
    }
   ],
   "source": [
    "tst_out = model_data[-train_ind, 'fld']\n",
    "trn_out = model_data[train_ind, 'fld']\n",
    "train_data = cbind(as.data.frame(trn_in), fld = model_data[train_ind, 'fld'])\n",
    "fmla = as.formula(paste(out_col_name, \"~\", paste(colnames(trn_in), collapse=\"+\")))\n",
    "fmla"
   ]
  },
  {
   "cell_type": "markdown",
   "metadata": {},
   "source": [
    "### KNN"
   ]
  },
  {
   "cell_type": "code",
   "execution_count": 15,
   "metadata": {
    "collapsed": false
   },
   "outputs": [
    {
     "data": {
      "text/plain": [
       "       kfit\n",
       "tst_out FALSE TRUE\n",
       "  FALSE   140    2\n",
       "  TRUE      6    1"
      ]
     },
     "metadata": {},
     "output_type": "display_data"
    }
   ],
   "source": [
    "kfit = knn(trn_in, tst_in, trn_out, k=5)\n",
    "table(tst_out, kfit)"
   ]
  },
  {
   "cell_type": "markdown",
   "metadata": {},
   "source": [
    "### SVM"
   ]
  },
  {
   "cell_type": "code",
   "execution_count": 16,
   "metadata": {
    "collapsed": false
   },
   "outputs": [
    {
     "data": {
      "text/plain": [
       "       svm_pred\n",
       "tst_out FALSE TRUE\n",
       "  FALSE   142    0\n",
       "  TRUE      7    0"
      ]
     },
     "metadata": {},
     "output_type": "display_data"
    }
   ],
   "source": [
    "svm_fit = svm(fmla, data=train_data)\n",
    "svm_pred = predict(svm_fit, tst_in)\n",
    "table(tst_out, svm_pred)"
   ]
  },
  {
   "cell_type": "markdown",
   "metadata": {},
   "source": [
    "### Decision Trees"
   ]
  },
  {
   "cell_type": "code",
   "execution_count": 17,
   "metadata": {
    "collapsed": false
   },
   "outputs": [],
   "source": [
    "dt_fmla = as.formula(paste(out_col_name, \"~\", paste(in_col_names, collapse=\"+\")))\n",
    "dt_train_data = model_data[train_ind, ]\n",
    "dt_test_data = model_data[-train_ind, in_col_names]"
   ]
  },
  {
   "cell_type": "code",
   "execution_count": 18,
   "metadata": {
    "collapsed": false
   },
   "outputs": [
    {
     "name": "stdout",
     "output_type": "stream",
     "text": [
      "\n",
      "Classification tree:\n",
      "rpart(formula = dt_fmla, data = dt_train_data, method = \"class\", \n",
      "    minsplit = 2)\n",
      "\n",
      "Variables actually used in tree construction:\n",
      "[1] gw     r15    r3d    rd     rhr    tr15mx trhrmx\n",
      "\n",
      "Root node error: 18/352 = 0.051136\n",
      "\n",
      "n= 352 \n",
      "\n",
      "        CP nsplit rel error  xerror    xstd\n",
      "1 0.333333      0  1.000000 1.00000 0.22960\n",
      "2 0.166667      1  0.666667 1.05556 0.23553\n",
      "3 0.055556      2  0.500000 0.77778 0.20369\n",
      "4 0.037037      6  0.277778 1.05556 0.23553\n",
      "5 0.027778      9  0.166667 1.11111 0.24129\n",
      "6 0.018519     11  0.111111 1.16667 0.24688\n",
      "7 0.010000     14  0.055556 1.22222 0.25230\n"
     ]
    }
   ],
   "source": [
    "fit = rpart(dt_fmla, method='class', data=dt_train_data, minsplit=2)\n",
    "printcp(fit)"
   ]
  },
  {
   "cell_type": "code",
   "execution_count": 19,
   "metadata": {
    "collapsed": false
   },
   "outputs": [
    {
     "data": {
      "text/html": [
       "<strong>png:</strong> 2"
      ],
      "text/latex": [
       "\\textbf{png:} 2"
      ],
      "text/markdown": [
       "**png:** 2"
      ],
      "text/plain": [
       "png \n",
       "  2 "
      ]
     },
     "metadata": {},
     "output_type": "display_data"
    },
    {
     "data": {
      "image/png": "[encoded data removed]",
      "text/plain": [
       "plot without title"
      ]
     },
     "metadata": {},
     "output_type": "display_data"
    }
   ],
   "source": [
    "tiff(paste(fig_dir, \"Plot2.tif\"), width=9, height=6, units='in', res = 300)\n",
    "rpart.plot(fit, under=TRUE, cex=0.9, extra=1, varlen = 6)\n",
    "dev.off()\n",
    "rpart.plot(fit, under=TRUE, cex=0.9, extra=1, varlen = 6)"
   ]
  },
  {
   "cell_type": "code",
   "execution_count": 20,
   "metadata": {
    "collapsed": false
   },
   "outputs": [
    {
     "data": {
      "image/png": "[encoded data removed]",
      "text/plain": [
       "plot without title"
      ]
     },
     "metadata": {},
     "output_type": "display_data"
    }
   ],
   "source": [
    "pfit<- prune(fit, cp=fit$cptable[which.min(fit$cptable[,\"xerror\"]),\"CP\"])\n",
    "rpart.plot(pfit, under=TRUE, cex=0.9, extra=1, varlen = 6)"
   ]
  },
  {
   "cell_type": "markdown",
   "metadata": {},
   "source": [
    "#### Decision Tree training results"
   ]
  },
  {
   "cell_type": "code",
   "execution_count": 21,
   "metadata": {
    "collapsed": false
   },
   "outputs": [
    {
     "data": {
      "text/plain": [
       "       pred\n",
       "trn_out FALSE TRUE\n",
       "  FALSE   332    2\n",
       "  TRUE      7   11"
      ]
     },
     "metadata": {},
     "output_type": "display_data"
    }
   ],
   "source": [
    "pred = predict(pfit, dt_train_data[, in_col_names], type = 'class')\n",
    "table(trn_out, pred)"
   ]
  },
  {
   "cell_type": "markdown",
   "metadata": {},
   "source": [
    "#### Decision Tree testing results"
   ]
  },
  {
   "cell_type": "code",
   "execution_count": 22,
   "metadata": {
    "collapsed": false
   },
   "outputs": [
    {
     "data": {
      "text/plain": [
       "       pred\n",
       "tst_out FALSE TRUE\n",
       "  FALSE   141    1\n",
       "  TRUE      3    4"
      ]
     },
     "metadata": {},
     "output_type": "display_data"
    }
   ],
   "source": [
    "pred = predict(pfit, dt_test_data, type = 'class')\n",
    "table(tst_out, pred)"
   ]
  },
  {
   "cell_type": "markdown",
   "metadata": {},
   "source": [
    "### Random Forests"
   ]
  },
  {
   "cell_type": "code",
   "execution_count": 23,
   "metadata": {
    "collapsed": false
   },
   "outputs": [
    {
     "data": {
      "text/plain": [
       "       pred\n",
       "trn_out FALSE TRUE\n",
       "  FALSE   334    0\n",
       "  TRUE      0   18"
      ]
     },
     "metadata": {},
     "output_type": "display_data"
    }
   ],
   "source": [
    "forest = randomForest(fmla, data = train_data, importance = TRUE, type=\"classification\", nodesize=2)\n",
    "\n",
    "pred = predict(forest, trn_in)\n",
    "table(trn_out, pred)"
   ]
  },
  {
   "cell_type": "code",
   "execution_count": 24,
   "metadata": {
    "collapsed": false
   },
   "outputs": [
    {
     "data": {
      "text/plain": [
       "       pred\n",
       "tst_out FALSE TRUE\n",
       "  FALSE   139    3\n",
       "  TRUE      5    2"
      ]
     },
     "metadata": {},
     "output_type": "display_data"
    },
    {
     "data": {
      "text/html": [
       "<table>\n",
       "<thead><tr><th></th><th scope=col>FALSE</th><th scope=col>TRUE</th><th scope=col>MeanDecreaseAccuracy</th><th scope=col>MeanDecreaseGini</th></tr></thead>\n",
       "<tbody>\n",
       "\t<tr><th scope=row>PC1</th><td>0.0192471540 </td><td> 0.2220709235</td><td> 0.0296380596</td><td>11.047471    </td></tr>\n",
       "\t<tr><th scope=row>PC2</th><td>0.0005615138 </td><td>-0.0150645022</td><td>-0.0001876255</td><td> 2.222659    </td></tr>\n",
       "\t<tr><th scope=row>PC3</th><td>0.0003604967 </td><td>-0.0003118326</td><td> 0.0003939761</td><td> 2.500869    </td></tr>\n",
       "\t<tr><th scope=row>PC4</th><td>0.0013261706 </td><td> 0.0090215729</td><td> 0.0016965790</td><td> 2.998466    </td></tr>\n",
       "\t<tr><th scope=row>PC5</th><td>0.0067250209 </td><td> 0.0079572872</td><td> 0.0067918407</td><td> 3.588847    </td></tr>\n",
       "\t<tr><th scope=row>PC6</th><td>0.0009843255 </td><td> 0.0062602453</td><td> 0.0012628235</td><td> 3.386835    </td></tr>\n",
       "\t<tr><th scope=row>PC7</th><td>0.0060552528 </td><td> 0.0212531746</td><td> 0.0068183352</td><td> 2.939536    </td></tr>\n",
       "\t<tr><th scope=row>PC8</th><td>0.0001669275 </td><td> 0.0114310967</td><td> 0.0007223209</td><td> 1.392661    </td></tr>\n",
       "\t<tr><th scope=row>PC9</th><td>0.0005137704 </td><td> 0.0145390332</td><td> 0.0013187514</td><td> 2.612724    </td></tr>\n",
       "</tbody>\n",
       "</table>\n"
      ],
      "text/latex": [
       "\\begin{tabular}{r|llll}\n",
       "  & FALSE & TRUE & MeanDecreaseAccuracy & MeanDecreaseGini\\\\\n",
       "\\hline\n",
       "\tPC1 & 0.0192471540  &  0.2220709235 &  0.0296380596 & 11.047471    \\\\\n",
       "\tPC2 & 0.0005615138  & -0.0150645022 & -0.0001876255 &  2.222659    \\\\\n",
       "\tPC3 & 0.0003604967  & -0.0003118326 &  0.0003939761 &  2.500869    \\\\\n",
       "\tPC4 & 0.0013261706  &  0.0090215729 &  0.0016965790 &  2.998466    \\\\\n",
       "\tPC5 & 0.0067250209  &  0.0079572872 &  0.0067918407 &  3.588847    \\\\\n",
       "\tPC6 & 0.0009843255  &  0.0062602453 &  0.0012628235 &  3.386835    \\\\\n",
       "\tPC7 & 0.0060552528  &  0.0212531746 &  0.0068183352 &  2.939536    \\\\\n",
       "\tPC8 & 0.0001669275  &  0.0114310967 &  0.0007223209 &  1.392661    \\\\\n",
       "\tPC9 & 0.0005137704  &  0.0145390332 &  0.0013187514 &  2.612724    \\\\\n",
       "\\end{tabular}\n"
      ],
      "text/markdown": [
       "\n",
       "| <!--/--> | FALSE | TRUE | MeanDecreaseAccuracy | MeanDecreaseGini | \n",
       "|---|---|---|---|---|---|---|---|---|\n",
       "| PC1 | 0.0192471540  |  0.2220709235 |  0.0296380596 | 11.047471     | \n",
       "| PC2 | 0.0005615138  | -0.0150645022 | -0.0001876255 |  2.222659     | \n",
       "| PC3 | 0.0003604967  | -0.0003118326 |  0.0003939761 |  2.500869     | \n",
       "| PC4 | 0.0013261706  |  0.0090215729 |  0.0016965790 |  2.998466     | \n",
       "| PC5 | 0.0067250209  |  0.0079572872 |  0.0067918407 |  3.588847     | \n",
       "| PC6 | 0.0009843255  |  0.0062602453 |  0.0012628235 |  3.386835     | \n",
       "| PC7 | 0.0060552528  |  0.0212531746 |  0.0068183352 |  2.939536     | \n",
       "| PC8 | 0.0001669275  |  0.0114310967 |  0.0007223209 |  1.392661     | \n",
       "| PC9 | 0.0005137704  |  0.0145390332 |  0.0013187514 |  2.612724     | \n",
       "\n",
       "\n"
      ],
      "text/plain": [
       "    FALSE        TRUE          MeanDecreaseAccuracy MeanDecreaseGini\n",
       "PC1 0.0192471540  0.2220709235  0.0296380596        11.047471       \n",
       "PC2 0.0005615138 -0.0150645022 -0.0001876255         2.222659       \n",
       "PC3 0.0003604967 -0.0003118326  0.0003939761         2.500869       \n",
       "PC4 0.0013261706  0.0090215729  0.0016965790         2.998466       \n",
       "PC5 0.0067250209  0.0079572872  0.0067918407         3.588847       \n",
       "PC6 0.0009843255  0.0062602453  0.0012628235         3.386835       \n",
       "PC7 0.0060552528  0.0212531746  0.0068183352         2.939536       \n",
       "PC8 0.0001669275  0.0114310967  0.0007223209         1.392661       \n",
       "PC9 0.0005137704  0.0145390332  0.0013187514         2.612724       "
      ]
     },
     "metadata": {},
     "output_type": "display_data"
    }
   ],
   "source": [
    "pred = predict(forest, tst_in)\n",
    "table(tst_out, pred)\n",
    "forest$importance"
   ]
  },
  {
   "cell_type": "markdown",
   "metadata": {
    "collapsed": true
   },
   "source": [
    "### Logistic Regression"
   ]
  },
  {
   "cell_type": "code",
   "execution_count": 25,
   "metadata": {
    "collapsed": false
   },
   "outputs": [
    {
     "name": "stdout",
     "output_type": "stream",
     "text": [
      "\n",
      "Call:  glm(formula = fmla, family = binomial(link = \"logit\"), data = train_data)\n",
      "\n",
      "Coefficients:\n",
      "(Intercept)          PC1          PC2          PC3          PC4          PC5  \n",
      "   -4.65015      1.03238     -0.05154      0.35704     -0.68986     -0.98617  \n",
      "        PC6          PC7          PC8          PC9  \n",
      "    0.61232      2.49999      1.51311     -1.04854  \n",
      "\n",
      "Degrees of Freedom: 351 Total (i.e. Null);  342 Residual\n",
      "Null Deviance:\t    142.1 \n",
      "Residual Deviance: 57.15 \tAIC: 77.15\n"
     ]
    }
   ],
   "source": [
    "lo_fit = glm(fmla, family=binomial(link='logit'), data=train_data)\n",
    "print(lo_fit)"
   ]
  },
  {
   "cell_type": "code",
   "execution_count": 26,
   "metadata": {
    "collapsed": false
   },
   "outputs": [
    {
     "data": {
      "text/plain": [
       "       \n",
       "tst_out FALSE TRUE\n",
       "  FALSE   140    2\n",
       "  TRUE      3    4"
      ]
     },
     "metadata": {},
     "output_type": "display_data"
    }
   ],
   "source": [
    "pred = predict(lo_fit, as.data.frame(tst_in), type=\"response\")\n",
    "table(tst_out, round(pred)>0)"
   ]
  },
  {
   "cell_type": "code",
   "execution_count": null,
   "metadata": {
    "collapsed": true
   },
   "outputs": [],
   "source": []
  }
 ],
 "metadata": {
  "kernelspec": {
   "display_name": "R",
   "language": "R",
   "name": "ir"
  },
  "language_info": {
   "codemirror_mode": "r",
   "file_extension": ".r",
   "mimetype": "text/x-r-source",
   "name": "R",
   "pygments_lexer": "r",
   "version": "3.3.2"
  }
 },
 "nbformat": 4,
 "nbformat_minor": 2
}
