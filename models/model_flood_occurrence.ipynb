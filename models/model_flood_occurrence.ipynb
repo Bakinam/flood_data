{
 "cells": [
  {
   "cell_type": "markdown",
   "metadata": {},
   "source": [
    "# Predicting flood occurrence\n",
    "Flood occurrences in downtown Norfolk are predicted based on rain, tide levels, water table levels, and wind speed/direction. "
   ]
  },
  {
   "cell_type": "code",
   "execution_count": 1,
   "metadata": {
    "collapsed": false
   },
   "outputs": [
    {
     "name": "stderr",
     "output_type": "stream",
     "text": [
      "Warning message:\n",
      "\"package 'caret' was built under R version 3.3.3\"Loading required package: lattice\n",
      "Loading required package: ggplot2\n",
      "Warning message:\n",
      "\"package 'ggplot2' was built under R version 3.3.3\"Warning message:\n",
      "\"package 'ggfortify' was built under R version 3.3.3\"Warning message:\n",
      "\"package 'dplyr' was built under R version 3.3.3\"\n",
      "Attaching package: 'dplyr'\n",
      "\n",
      "The following objects are masked from 'package:stats':\n",
      "\n",
      "    filter, lag\n",
      "\n",
      "The following objects are masked from 'package:base':\n",
      "\n",
      "    intersect, setdiff, setequal, union\n",
      "\n",
      "Warning message:\n",
      "\"package 'rpart.plot' was built under R version 3.3.3\"Warning message:\n",
      "\"package 'RSQLite' was built under R version 3.3.3\"Warning message:\n",
      "\"package 'DBI' was built under R version 3.3.3\"Warning message:\n",
      "\"package 'randomForest' was built under R version 3.3.3\"randomForest 4.6-12\n",
      "Type rfNews() to see new features/changes/bug fixes.\n",
      "\n",
      "Attaching package: 'randomForest'\n",
      "\n",
      "The following object is masked from 'package:dplyr':\n",
      "\n",
      "    combine\n",
      "\n",
      "The following object is masked from 'package:ggplot2':\n",
      "\n",
      "    margin\n",
      "\n",
      "Warning message:\n",
      "\"package 'e1071' was built under R version 3.3.3\""
     ]
    }
   ],
   "source": [
    "repo = \"http://cran.us.r-project.org\"\n",
    "library(caret)\n",
    "library(ggfortify)\n",
    "library(ggplot2)\n",
    "library(dplyr)\n",
    "library(rpart)\n",
    "library(rpart.plot)\n",
    "library(RSQLite)\n",
    "library(DBI)\n",
    "library(randomForest)\n",
    "library(e1071)\n",
    "library(class)"
   ]
  },
  {
   "cell_type": "code",
   "execution_count": 2,
   "metadata": {
    "collapsed": true
   },
   "outputs": [],
   "source": [
    "classify_knn = function(pca.data, obs_data, point, k){\n",
    "  neighs = get_nn(pca.data, point, k)\n",
    "  neigh_data = obs_data[neighs,]\n",
    "  return(names(which.max(table(neigh_data$fld))))\n",
    "}"
   ]
  },
  {
   "cell_type": "code",
   "execution_count": 3,
   "metadata": {
    "collapsed": true
   },
   "outputs": [],
   "source": [
    "get_nn = function(d, point, k){\n",
    "  point = d[point, ]\n",
    "  dists = sort(sqrt(rowSums((t(t(d) - point))^2)))\n",
    "  close_points = names(dists)[2:k]\n",
    "  return(close_points)\n",
    "}"
   ]
  },
  {
   "cell_type": "code",
   "execution_count": 4,
   "metadata": {
    "collapsed": true
   },
   "outputs": [],
   "source": [
    "base_dir<- \"C:/Users/Jeff/Documents/research/Sadler_3rdPaper/manuscript/\"\n",
    "data_dir<- \"C:/Users/Jeff/Google Drive/research/Sadler_3rdPaper_Data/\"\n",
    "fig_dir <- paste(base_dir, \"Figures/general/\", sep=\"\")\n",
    "db_filename <- \"floodData.sqlite\""
   ]
  },
  {
   "cell_type": "code",
   "execution_count": 5,
   "metadata": {
    "collapsed": false
   },
   "outputs": [],
   "source": [
    "con = dbConnect(RSQLite::SQLite(), dbname=paste(data_dir, db_filename, sep=\"\"))"
   ]
  },
  {
   "cell_type": "code",
   "execution_count": 19,
   "metadata": {
    "collapsed": false
   },
   "outputs": [],
   "source": [
    "df = dbReadTable(con, 'for_model_geog')"
   ]
  },
  {
   "cell_type": "code",
   "execution_count": 20,
   "metadata": {
    "collapsed": false
   },
   "outputs": [],
   "source": [
    "df = df[df$is_dntn == 1,]\n",
    "df = subset(df, rain_daily_sum>0.1)"
   ]
  },
  {
   "cell_type": "code",
   "execution_count": 21,
   "metadata": {
    "collapsed": false
   },
   "outputs": [
    {
     "data": {
      "text/html": [
       "<ol class=list-inline>\n",
       "\t<li>'level_0'</li>\n",
       "\t<li>'Date'</li>\n",
       "\t<li>'Condition'</li>\n",
       "\t<li>'Horizontal'</li>\n",
       "\t<li>'Invert_Ele'</li>\n",
       "\t<li>'Pipe_Geome'</li>\n",
       "\t<li>'Pipe_Lengt'</li>\n",
       "\t<li>'Pipe_Mater'</li>\n",
       "\t<li>'Rim_Elevat'</li>\n",
       "\t<li>'Structure1'</li>\n",
       "\t<li>'Vertical_D'</li>\n",
       "\t<li>'Year_Ins_1'</li>\n",
       "\t<li>'Year_Insta'</li>\n",
       "\t<li>'count'</li>\n",
       "\t<li>'dist_to_ba'</li>\n",
       "\t<li>'dist_to_wa'</li>\n",
       "\t<li>'elev_1'</li>\n",
       "\t<li>'event_name'</li>\n",
       "\t<li>'flooded'</li>\n",
       "\t<li>'gw_daily_avg'</li>\n",
       "\t<li>'imp'</li>\n",
       "\t<li>'index'</li>\n",
       "\t<li>'is_dntn'</li>\n",
       "\t<li>'location'</li>\n",
       "\t<li>'num_flooded'</li>\n",
       "\t<li>'rain_15_min_max'</li>\n",
       "\t<li>'rain_15_min_max_time'</li>\n",
       "\t<li>'rain_daily_sum'</li>\n",
       "\t<li>'rain_hourly_max'</li>\n",
       "\t<li>'rain_hourly_max_time'</li>\n",
       "\t<li>'rain_prev_3_days'</li>\n",
       "\t<li>'tide_daily_avg'</li>\n",
       "\t<li>'tide_r15mx'</li>\n",
       "\t<li>'tide_rhrmx'</li>\n",
       "\t<li>'twi'</li>\n",
       "\t<li>'wind_dir_daily_avg'</li>\n",
       "\t<li>'wind_vel_daily_avg'</li>\n",
       "\t<li>'wind_vel_hourly_max_avg'</li>\n",
       "\t<li>'xcoord'</li>\n",
       "\t<li>'ycoord'</li>\n",
       "</ol>\n"
      ],
      "text/latex": [
       "\\begin{enumerate*}\n",
       "\\item 'level\\_0'\n",
       "\\item 'Date'\n",
       "\\item 'Condition'\n",
       "\\item 'Horizontal'\n",
       "\\item 'Invert\\_Ele'\n",
       "\\item 'Pipe\\_Geome'\n",
       "\\item 'Pipe\\_Lengt'\n",
       "\\item 'Pipe\\_Mater'\n",
       "\\item 'Rim\\_Elevat'\n",
       "\\item 'Structure1'\n",
       "\\item 'Vertical\\_D'\n",
       "\\item 'Year\\_Ins\\_1'\n",
       "\\item 'Year\\_Insta'\n",
       "\\item 'count'\n",
       "\\item 'dist\\_to\\_ba'\n",
       "\\item 'dist\\_to\\_wa'\n",
       "\\item 'elev\\_1'\n",
       "\\item 'event\\_name'\n",
       "\\item 'flooded'\n",
       "\\item 'gw\\_daily\\_avg'\n",
       "\\item 'imp'\n",
       "\\item 'index'\n",
       "\\item 'is\\_dntn'\n",
       "\\item 'location'\n",
       "\\item 'num\\_flooded'\n",
       "\\item 'rain\\_15\\_min\\_max'\n",
       "\\item 'rain\\_15\\_min\\_max\\_time'\n",
       "\\item 'rain\\_daily\\_sum'\n",
       "\\item 'rain\\_hourly\\_max'\n",
       "\\item 'rain\\_hourly\\_max\\_time'\n",
       "\\item 'rain\\_prev\\_3\\_days'\n",
       "\\item 'tide\\_daily\\_avg'\n",
       "\\item 'tide\\_r15mx'\n",
       "\\item 'tide\\_rhrmx'\n",
       "\\item 'twi'\n",
       "\\item 'wind\\_dir\\_daily\\_avg'\n",
       "\\item 'wind\\_vel\\_daily\\_avg'\n",
       "\\item 'wind\\_vel\\_hourly\\_max\\_avg'\n",
       "\\item 'xcoord'\n",
       "\\item 'ycoord'\n",
       "\\end{enumerate*}\n"
      ],
      "text/markdown": [
       "1. 'level_0'\n",
       "2. 'Date'\n",
       "3. 'Condition'\n",
       "4. 'Horizontal'\n",
       "5. 'Invert_Ele'\n",
       "6. 'Pipe_Geome'\n",
       "7. 'Pipe_Lengt'\n",
       "8. 'Pipe_Mater'\n",
       "9. 'Rim_Elevat'\n",
       "10. 'Structure1'\n",
       "11. 'Vertical_D'\n",
       "12. 'Year_Ins_1'\n",
       "13. 'Year_Insta'\n",
       "14. 'count'\n",
       "15. 'dist_to_ba'\n",
       "16. 'dist_to_wa'\n",
       "17. 'elev_1'\n",
       "18. 'event_name'\n",
       "19. 'flooded'\n",
       "20. 'gw_daily_avg'\n",
       "21. 'imp'\n",
       "22. 'index'\n",
       "23. 'is_dntn'\n",
       "24. 'location'\n",
       "25. 'num_flooded'\n",
       "26. 'rain_15_min_max'\n",
       "27. 'rain_15_min_max_time'\n",
       "28. 'rain_daily_sum'\n",
       "29. 'rain_hourly_max'\n",
       "30. 'rain_hourly_max_time'\n",
       "31. 'rain_prev_3_days'\n",
       "32. 'tide_daily_avg'\n",
       "33. 'tide_r15mx'\n",
       "34. 'tide_rhrmx'\n",
       "35. 'twi'\n",
       "36. 'wind_dir_daily_avg'\n",
       "37. 'wind_vel_daily_avg'\n",
       "38. 'wind_vel_hourly_max_avg'\n",
       "39. 'xcoord'\n",
       "40. 'ycoord'\n",
       "\n",
       "\n"
      ],
      "text/plain": [
       " [1] \"level_0\"                 \"Date\"                   \n",
       " [3] \"Condition\"               \"Horizontal\"             \n",
       " [5] \"Invert_Ele\"              \"Pipe_Geome\"             \n",
       " [7] \"Pipe_Lengt\"              \"Pipe_Mater\"             \n",
       " [9] \"Rim_Elevat\"              \"Structure1\"             \n",
       "[11] \"Vertical_D\"              \"Year_Ins_1\"             \n",
       "[13] \"Year_Insta\"              \"count\"                  \n",
       "[15] \"dist_to_ba\"              \"dist_to_wa\"             \n",
       "[17] \"elev_1\"                  \"event_name\"             \n",
       "[19] \"flooded\"                 \"gw_daily_avg\"           \n",
       "[21] \"imp\"                     \"index\"                  \n",
       "[23] \"is_dntn\"                 \"location\"               \n",
       "[25] \"num_flooded\"             \"rain_15_min_max\"        \n",
       "[27] \"rain_15_min_max_time\"    \"rain_daily_sum\"         \n",
       "[29] \"rain_hourly_max\"         \"rain_hourly_max_time\"   \n",
       "[31] \"rain_prev_3_days\"        \"tide_daily_avg\"         \n",
       "[33] \"tide_r15mx\"              \"tide_rhrmx\"             \n",
       "[35] \"twi\"                     \"wind_dir_daily_avg\"     \n",
       "[37] \"wind_vel_daily_avg\"      \"wind_vel_hourly_max_avg\"\n",
       "[39] \"xcoord\"                  \"ycoord\"                 "
      ]
     },
     "metadata": {},
     "output_type": "display_data"
    }
   ],
   "source": [
    "colnames(df)"
   ]
  },
  {
   "cell_type": "code",
   "execution_count": 61,
   "metadata": {
    "collapsed": false
   },
   "outputs": [],
   "source": [
    "in_col_names = c('rain_daily_sum',\n",
    "                 'rain_hourly_max',\n",
    "                 'rain_15_min_max', \n",
    "                 'rain_prev_3_days', \n",
    "                 'gw_daily_avg', \n",
    "                 'tide_daily_avg', \n",
    "                 'wind_vel_daily_avg',\n",
    "                 'tide_r15mx', \n",
    "                 'tide_rhrmx',\n",
    "                 'imp',\n",
    "                 'twi',\n",
    "                 'dist_to_wa',\n",
    "                 'dist_to_ba',\n",
    "                 'Pipe_Geome',\n",
    "                 'Horizontal',\n",
    "                 'Invert_Ele',\n",
    "                 'Vertical_D',\n",
    "                 'Year_Insta',\n",
    "                 'Pipe_Lengt',\n",
    "                 'Rim_Elevat',\n",
    "                 'Structure1',\n",
    "                 'Year_Ins_1',\n",
    "                 'Year_Insta',\n",
    "                 'elev_1'\n",
    "                )\n",
    "out_col_name = 'flooded'\n",
    "model_data = df[, c(in_col_names, out_col_name)]\n",
    "model_data[,out_col_name] = model_data[,out_col_name]>0\n",
    "model_data[,out_col_name] = factor(model_data[,out_col_name])"
   ]
  },
  {
   "cell_type": "code",
   "execution_count": 62,
   "metadata": {
    "collapsed": false
   },
   "outputs": [
    {
     "name": "stdout",
     "output_type": "stream",
     "text": [
      "'data.frame':\t179165 obs. of  26 variables:\n",
      " $ rain_daily_sum    : num  0.81 0.355 1.345 0.355 0.145 ...\n",
      " $ rain_hourly_max   : num  0.28 0.1 0.91 0.09 0.09 ...\n",
      " $ rain_15_min_max   : num  0.25 0.03 0.43 0.03 0.03 0.08 0.16 0.21 0.09 0.08 ...\n",
      " $ rain_prev_3_days  : num  0.81 0.44 1.345 0.355 0.53 ...\n",
      " $ gw_daily_avg      : num  2.41 2.93 3.45 2.85 3.07 ...\n",
      " $ tide_daily_avg    : num  0.2053 0.8775 0.5378 0.574 -0.0115 ...\n",
      " $ wind_vel_daily_avg: num  8.3 11.6 16.2 21.4 3 ...\n",
      " $ tide_r15mx        : num  -0.505 0.003 0.249 -0.469 0.154 ...\n",
      " $ tide_rhrmx        : num  0.246 0.269 0.036 -0.469 0.154 ...\n",
      " $ imp               : int  134205 134205 134205 134205 134205 134205 134205 134205 134205 134205 ...\n",
      " $ twi               : num  4.52 4.52 4.52 4.52 4.52 ...\n",
      " $ dist_to_wa        : num  3062 3062 3062 3062 3062 ...\n",
      " $ dist_to_ba        : num  90.6 90.6 90.6 90.6 90.6 ...\n",
      " $ Pipe_Geome        : Factor w/ 11 levels \"CB\",\"CBCS\",\"CBCW\",..: 5 5 5 5 5 5 5 5 5 5 ...\n",
      " $ Horizontal        : num  9 9 9 9 9 9 9 9 9 9 ...\n",
      " $ Invert_Ele        : num  10.9 10.9 10.9 10.9 10.9 ...\n",
      " $ Vertical_D        : num  14 14 14 14 14 14 14 14 14 14 ...\n",
      " $ Year_Insta        : int  1922 1922 1922 1922 1922 1922 1922 1922 1922 1922 ...\n",
      " $ Pipe_Lengt        : num  40 40 40 40 40 40 40 40 40 40 ...\n",
      " $ Rim_Elevat        : num  12.4 12.4 12.4 12.4 12.4 ...\n",
      " $ Structure1        : Factor w/ 11 levels \"CB\",\"CBCS\",\"CBCW\",..: 5 5 5 5 5 5 5 5 5 5 ...\n",
      " $ Year_Ins_1        : int  1922 1922 1922 1922 1922 1922 1922 1922 1922 1922 ...\n",
      " $ Year_Insta.1      : int  1922 1922 1922 1922 1922 1922 1922 1922 1922 1922 ...\n",
      " $ elev_1            : num  3.36 3.36 3.36 3.36 3.36 ...\n",
      " $ flooded           : Factor w/ 2 levels \"FALSE\",\"TRUE\": 1 1 1 1 1 1 1 1 1 1 ...\n",
      " $ Pipe_Mater        : Factor w/ 11 levels \"CB\",\"CBCS\",\"CBCW\",..: 5 5 5 5 5 5 5 5 5 5 ...\n"
     ]
    }
   ],
   "source": [
    "col_nums = c(\"twi\", \"dist_to_wa\", \"dist_to_ba\", \"Horizontal\", \"Invert_Ele\", \"Vertical_D\", \"Pipe_Lengt\", \"Rim_Elevat\", \"elev_1\")\n",
    "model_data[col_nums] = sapply(model_data[col_nums], as.numeric)\n",
    "model_data$Structure1 = as.factor(model_data$Structure1)\n",
    "model_data$Pipe_Geome = as.factor(model_data$Structure1)\n",
    "model_data$Pipe_Mater = as.factor(model_data$Structure1)\n",
    "str(model_data)"
   ]
  },
  {
   "cell_type": "code",
   "execution_count": 63,
   "metadata": {
    "collapsed": false
   },
   "outputs": [
    {
     "data": {
      "image/png": "[encoded data removed]",
      "text/plain": [
       "plot without title"
      ]
     },
     "metadata": {},
     "output_type": "display_data"
    },
    {
     "data": {
      "image/png": "[encoded data removed]",
      "text/plain": [
       "plot without title"
      ]
     },
     "metadata": {},
     "output_type": "display_data"
    }
   ],
   "source": [
    "boxplot(model_data$rain_daily_sum)\n",
    "median_fld_dly_rain = quantile(model_data[model_data$flooded == TRUE, 'rain_daily_sum'], .25)\n",
    "hi_rn_rows = which(model_data$rain_daily_sum>median_fld_dly_rain)\n",
    "model_data = model_data[-hi_rn_rows,]\n",
    "boxplot(model_data$rain_daily_sum)"
   ]
  },
  {
   "cell_type": "code",
   "execution_count": 64,
   "metadata": {
    "collapsed": false
   },
   "outputs": [
    {
     "data": {
      "text/html": [
       "<table>\n",
       "<thead><tr><th></th><th scope=col>rain_daily_sum</th><th scope=col>rain_hourly_max</th><th scope=col>rain_15_min_max</th><th scope=col>rain_prev_3_days</th><th scope=col>gw_daily_avg</th><th scope=col>tide_daily_avg</th><th scope=col>wind_vel_daily_avg</th><th scope=col>tide_r15mx</th><th scope=col>tide_rhrmx</th><th scope=col>imp</th><th scope=col>...</th><th scope=col>Vertical_D</th><th scope=col>Year_Insta</th><th scope=col>Pipe_Lengt</th><th scope=col>Rim_Elevat</th><th scope=col>Structure1</th><th scope=col>Year_Ins_1</th><th scope=col>Year_Insta.1</th><th scope=col>elev_1</th><th scope=col>flooded</th><th scope=col>Pipe_Mater</th></tr></thead>\n",
       "<tbody>\n",
       "\t<tr><th scope=row>2618767</th><td>3.455   </td><td>0.87    </td><td>0.33    </td><td>0.455   </td><td>1.65029 </td><td>2.149052</td><td>25.10297</td><td>3.304   </td><td>1.759   </td><td>136405  </td><td>...     </td><td>0       </td><td>1929    </td><td> 5.00000</td><td>5.90    </td><td>CBNS    </td><td>1929    </td><td>1929    </td><td>1.91625 </td><td>TRUE    </td><td>CBNS    </td></tr>\n",
       "\t<tr><th scope=row>2845642</th><td>3.455   </td><td>0.87    </td><td>0.33    </td><td>0.455   </td><td>1.65029 </td><td>2.149052</td><td>25.10297</td><td>3.304   </td><td>1.759   </td><td>105967  </td><td>...     </td><td>0       </td><td>1965    </td><td>32.93293</td><td>4.69    </td><td>CBNS    </td><td>   0    </td><td>1965    </td><td>1.07764 </td><td>TRUE    </td><td>CBNS    </td></tr>\n",
       "\t<tr><th scope=row>2873093</th><td>3.455   </td><td>0.87    </td><td>0.33    </td><td>0.455   </td><td>1.65029 </td><td>2.149052</td><td>25.10297</td><td>3.304   </td><td>1.759   </td><td>116098  </td><td>...     </td><td>0       </td><td>   0    </td><td>43.18606</td><td>0.00    </td><td>CB      </td><td>   0    </td><td>   0    </td><td>1.95300 </td><td>TRUE    </td><td>CB      </td></tr>\n",
       "\t<tr><th scope=row>2875587</th><td>3.455   </td><td>0.87    </td><td>0.33    </td><td>0.455   </td><td>1.65029 </td><td>2.149052</td><td>25.10297</td><td>3.304   </td><td>1.759   </td><td>131435  </td><td>...     </td><td>0       </td><td>1943    </td><td> 0.00000</td><td>4.96    </td><td>CBNS    </td><td>   0    </td><td>1943    </td><td>1.27146 </td><td>TRUE    </td><td>CBNS    </td></tr>\n",
       "\t<tr><th scope=row>2880566</th><td>3.455   </td><td>0.87    </td><td>0.33    </td><td>0.455   </td><td>1.65029 </td><td>2.149052</td><td>25.10297</td><td>3.304   </td><td>1.759   </td><td>156326  </td><td>...     </td><td>0       </td><td>1920    </td><td>50.00000</td><td>5.97    </td><td>CBNS    </td><td>1920    </td><td>1920    </td><td>1.70476 </td><td>TRUE    </td><td>CBNS    </td></tr>\n",
       "\t<tr><th scope=row>2883052</th><td>3.455   </td><td>0.87    </td><td>0.33    </td><td>0.455   </td><td>1.65029 </td><td>2.149052</td><td>25.10297</td><td>3.304   </td><td>1.759   </td><td>120275  </td><td>...     </td><td>0       </td><td>1922    </td><td>30.00000</td><td>8.98    </td><td>CBDN    </td><td>1922    </td><td>1922    </td><td>2.29492 </td><td>TRUE    </td><td>CBDN    </td></tr>\n",
       "</tbody>\n",
       "</table>\n"
      ],
      "text/latex": [
       "\\begin{tabular}{r|llllllllllllllllllllllllll}\n",
       "  & rain\\_daily\\_sum & rain\\_hourly\\_max & rain\\_15\\_min\\_max & rain\\_prev\\_3\\_days & gw\\_daily\\_avg & tide\\_daily\\_avg & wind\\_vel\\_daily\\_avg & tide\\_r15mx & tide\\_rhrmx & imp & ... & Vertical\\_D & Year\\_Insta & Pipe\\_Lengt & Rim\\_Elevat & Structure1 & Year\\_Ins\\_1 & Year\\_Insta.1 & elev\\_1 & flooded & Pipe\\_Mater\\\\\n",
       "\\hline\n",
       "\t2618767 & 3.455    & 0.87     & 0.33     & 0.455    & 1.65029  & 2.149052 & 25.10297 & 3.304    & 1.759    & 136405   & ...      & 0        & 1929     &  5.00000 & 5.90     & CBNS     & 1929     & 1929     & 1.91625  & TRUE     & CBNS    \\\\\n",
       "\t2845642 & 3.455    & 0.87     & 0.33     & 0.455    & 1.65029  & 2.149052 & 25.10297 & 3.304    & 1.759    & 105967   & ...      & 0        & 1965     & 32.93293 & 4.69     & CBNS     &    0     & 1965     & 1.07764  & TRUE     & CBNS    \\\\\n",
       "\t2873093 & 3.455    & 0.87     & 0.33     & 0.455    & 1.65029  & 2.149052 & 25.10297 & 3.304    & 1.759    & 116098   & ...      & 0        &    0     & 43.18606 & 0.00     & CB       &    0     &    0     & 1.95300  & TRUE     & CB      \\\\\n",
       "\t2875587 & 3.455    & 0.87     & 0.33     & 0.455    & 1.65029  & 2.149052 & 25.10297 & 3.304    & 1.759    & 131435   & ...      & 0        & 1943     &  0.00000 & 4.96     & CBNS     &    0     & 1943     & 1.27146  & TRUE     & CBNS    \\\\\n",
       "\t2880566 & 3.455    & 0.87     & 0.33     & 0.455    & 1.65029  & 2.149052 & 25.10297 & 3.304    & 1.759    & 156326   & ...      & 0        & 1920     & 50.00000 & 5.97     & CBNS     & 1920     & 1920     & 1.70476  & TRUE     & CBNS    \\\\\n",
       "\t2883052 & 3.455    & 0.87     & 0.33     & 0.455    & 1.65029  & 2.149052 & 25.10297 & 3.304    & 1.759    & 120275   & ...      & 0        & 1922     & 30.00000 & 8.98     & CBDN     & 1922     & 1922     & 2.29492  & TRUE     & CBDN    \\\\\n",
       "\\end{tabular}\n"
      ],
      "text/markdown": [
       "\n",
       "| <!--/--> | rain_daily_sum | rain_hourly_max | rain_15_min_max | rain_prev_3_days | gw_daily_avg | tide_daily_avg | wind_vel_daily_avg | tide_r15mx | tide_rhrmx | imp | ... | Vertical_D | Year_Insta | Pipe_Lengt | Rim_Elevat | Structure1 | Year_Ins_1 | Year_Insta.1 | elev_1 | flooded | Pipe_Mater | \n",
       "|---|---|---|---|---|---|\n",
       "| 2618767 | 3.455    | 0.87     | 0.33     | 0.455    | 1.65029  | 2.149052 | 25.10297 | 3.304    | 1.759    | 136405   | ...      | 0        | 1929     |  5.00000 | 5.90     | CBNS     | 1929     | 1929     | 1.91625  | TRUE     | CBNS     | \n",
       "| 2845642 | 3.455    | 0.87     | 0.33     | 0.455    | 1.65029  | 2.149052 | 25.10297 | 3.304    | 1.759    | 105967   | ...      | 0        | 1965     | 32.93293 | 4.69     | CBNS     |    0     | 1965     | 1.07764  | TRUE     | CBNS     | \n",
       "| 2873093 | 3.455    | 0.87     | 0.33     | 0.455    | 1.65029  | 2.149052 | 25.10297 | 3.304    | 1.759    | 116098   | ...      | 0        |    0     | 43.18606 | 0.00     | CB       |    0     |    0     | 1.95300  | TRUE     | CB       | \n",
       "| 2875587 | 3.455    | 0.87     | 0.33     | 0.455    | 1.65029  | 2.149052 | 25.10297 | 3.304    | 1.759    | 131435   | ...      | 0        | 1943     |  0.00000 | 4.96     | CBNS     |    0     | 1943     | 1.27146  | TRUE     | CBNS     | \n",
       "| 2880566 | 3.455    | 0.87     | 0.33     | 0.455    | 1.65029  | 2.149052 | 25.10297 | 3.304    | 1.759    | 156326   | ...      | 0        | 1920     | 50.00000 | 5.97     | CBNS     | 1920     | 1920     | 1.70476  | TRUE     | CBNS     | \n",
       "| 2883052 | 3.455    | 0.87     | 0.33     | 0.455    | 1.65029  | 2.149052 | 25.10297 | 3.304    | 1.759    | 120275   | ...      | 0        | 1922     | 30.00000 | 8.98     | CBDN     | 1922     | 1922     | 2.29492  | TRUE     | CBDN     | \n",
       "\n",
       "\n"
      ],
      "text/plain": [
       "        rain_daily_sum rain_hourly_max rain_15_min_max rain_prev_3_days\n",
       "2618767 3.455          0.87            0.33            0.455           \n",
       "2845642 3.455          0.87            0.33            0.455           \n",
       "2873093 3.455          0.87            0.33            0.455           \n",
       "2875587 3.455          0.87            0.33            0.455           \n",
       "2880566 3.455          0.87            0.33            0.455           \n",
       "2883052 3.455          0.87            0.33            0.455           \n",
       "        gw_daily_avg tide_daily_avg wind_vel_daily_avg tide_r15mx tide_rhrmx\n",
       "2618767 1.65029      2.149052       25.10297           3.304      1.759     \n",
       "2845642 1.65029      2.149052       25.10297           3.304      1.759     \n",
       "2873093 1.65029      2.149052       25.10297           3.304      1.759     \n",
       "2875587 1.65029      2.149052       25.10297           3.304      1.759     \n",
       "2880566 1.65029      2.149052       25.10297           3.304      1.759     \n",
       "2883052 1.65029      2.149052       25.10297           3.304      1.759     \n",
       "        imp    ... Vertical_D Year_Insta Pipe_Lengt Rim_Elevat Structure1\n",
       "2618767 136405 ... 0          1929        5.00000   5.90       CBNS      \n",
       "2845642 105967 ... 0          1965       32.93293   4.69       CBNS      \n",
       "2873093 116098 ... 0             0       43.18606   0.00       CB        \n",
       "2875587 131435 ... 0          1943        0.00000   4.96       CBNS      \n",
       "2880566 156326 ... 0          1920       50.00000   5.97       CBNS      \n",
       "2883052 120275 ... 0          1922       30.00000   8.98       CBDN      \n",
       "        Year_Ins_1 Year_Insta.1 elev_1  flooded Pipe_Mater\n",
       "2618767 1929       1929         1.91625 TRUE    CBNS      \n",
       "2845642    0       1965         1.07764 TRUE    CBNS      \n",
       "2873093    0          0         1.95300 TRUE    CB        \n",
       "2875587    0       1943         1.27146 TRUE    CBNS      \n",
       "2880566 1920       1920         1.70476 TRUE    CBNS      \n",
       "2883052 1922       1922         2.29492 TRUE    CBDN      "
      ]
     },
     "metadata": {},
     "output_type": "display_data"
    }
   ],
   "source": [
    "head(model_data[order(-model_data$rain_daily_sum),])"
   ]
  },
  {
   "cell_type": "code",
   "execution_count": 65,
   "metadata": {
    "collapsed": false
   },
   "outputs": [
    {
     "name": "stdout",
     "output_type": "stream",
     "text": [
      " FALSE   TRUE \n",
      "176607    117 \n"
     ]
    },
    {
     "data": {
      "text/html": [
       "0.000662487896855731"
      ],
      "text/latex": [
       "0.000662487896855731"
      ],
      "text/markdown": [
       "0.000662487896855731"
      ],
      "text/plain": [
       "[1] 0.0006624879"
      ]
     },
     "metadata": {},
     "output_type": "display_data"
    }
   ],
   "source": [
    "print(summary(model_data$flooded))\n",
    "sum(as.numeric(model_data$flooded == TRUE))/sum(as.numeric(model_data$flooded == FALSE))"
   ]
  },
  {
   "cell_type": "markdown",
   "metadata": {},
   "source": [
    "### Partition data into training and testing sets"
   ]
  },
  {
   "cell_type": "code",
   "execution_count": 66,
   "metadata": {
    "collapsed": false
   },
   "outputs": [
    {
     "name": "stdout",
     "output_type": "stream",
     "text": [
      "[1] 176724\n"
     ]
    },
    {
     "data": {
      "text/html": [
       "53017"
      ],
      "text/latex": [
       "53017"
      ],
      "text/markdown": [
       "53017"
      ],
      "text/plain": [
       "[1] 53017"
      ]
     },
     "metadata": {},
     "output_type": "display_data"
    }
   ],
   "source": [
    "prt = createDataPartition(model_data[, out_col_name], p=0.7)\n",
    "train_ind = prt$Resample1\n",
    "test_ind = rownames(model_data[-train_ind,])\n",
    "print(length(test_ind) + length(train_ind))\n",
    "# length(rownames(model_data[model_data[train_ind, out_col_name]==TRUE]))\n",
    "length(test_ind)"
   ]
  },
  {
   "cell_type": "code",
   "execution_count": 67,
   "metadata": {
    "collapsed": false
   },
   "outputs": [],
   "source": [
    "train_data = model_data[train_ind, ]\n",
    "test_data = model_data[test_ind, ]"
   ]
  },
  {
   "cell_type": "markdown",
   "metadata": {},
   "source": [
    "### Downsample negative records in training dataset"
   ]
  },
  {
   "cell_type": "code",
   "execution_count": 68,
   "metadata": {
    "collapsed": false
   },
   "outputs": [],
   "source": [
    "nfld_train = rownames(train_data[train_data[, out_col_name] == FALSE,])\n",
    "fld_train = rownames(train_data[train_data[, out_col_name] == TRUE,])\n",
    "nfld_test = rownames(test_data[test_data[, out_col_name] == FALSE,])\n",
    "fld_test = rownames(test_data[test_data[, out_col_name] == TRUE,])\n",
    "down_sample_percent = .006\n",
    "nfld_train_dwnsmp = sample(nfld_train, down_sample_percent*length(nfld_train))\n",
    "train_ind = c(fld_train, nfld_train_dwnsmp)"
   ]
  },
  {
   "cell_type": "code",
   "execution_count": 69,
   "metadata": {
    "collapsed": false
   },
   "outputs": [],
   "source": [
    "train_in_data = model_data[train_ind, in_col_names]\n",
    "test_in_data = model_data[test_ind, in_col_names]"
   ]
  },
  {
   "cell_type": "code",
   "execution_count": 70,
   "metadata": {
    "collapsed": true
   },
   "outputs": [],
   "source": [
    "tst_out = model_data[test_ind, out_col_name]\n",
    "trn_out = model_data[train_ind, out_col_name]"
   ]
  },
  {
   "cell_type": "markdown",
   "metadata": {},
   "source": [
    "### Scale data"
   ]
  },
  {
   "cell_type": "code",
   "execution_count": 18,
   "metadata": {
    "collapsed": false
   },
   "outputs": [
    {
     "name": "stderr",
     "output_type": "stream",
     "text": [
      "Warning message in var(if (is.vector(x) || is.factor(x)) x else as.double(x), na.rm = na.rm):\n",
      "\"NAs introduced by coercion\"Warning message in var(if (is.vector(x) || is.factor(x)) x else as.double(x), na.rm = na.rm):\n",
      "\"NAs introduced by coercion\""
     ]
    },
    {
     "ename": "ERROR",
     "evalue": "Error in colMeans(train_in_data): 'x' must be numeric\n",
     "output_type": "error",
     "traceback": [
      "Error in colMeans(train_in_data): 'x' must be numeric\nTraceback:\n",
      "1. colMeans(train_in_data)"
     ]
    }
   ],
   "source": [
    "train_col_stds = apply(train_in_data, 2, sd)\n",
    "train_col_means = colMeans(train_in_data)"
   ]
  },
  {
   "cell_type": "code",
   "execution_count": null,
   "metadata": {
    "collapsed": false
   },
   "outputs": [],
   "source": [
    "train_normalized = t((t(train_in_data)-train_col_means)/train_col_stds)\n",
    "test_normalized = t((t(test_in_data)-train_col_means)/train_col_stds)"
   ]
  },
  {
   "cell_type": "markdown",
   "metadata": {},
   "source": [
    "### PCA transform"
   ]
  },
  {
   "cell_type": "code",
   "execution_count": null,
   "metadata": {
    "collapsed": false
   },
   "outputs": [],
   "source": [
    "pca = prcomp(train_normalized)\n",
    "pca$x = -pca$x\n",
    "pca$rotation=-pca$rotation\n",
    "p = ggplot(pca$x[,c(1,2)], aes(x=PC1, y=PC2, colour=model_data[train_ind, out_col_name], label=rownames(pca$x)))\n",
    "p + geom_point() + geom_text()\n",
    "print(pca)\n",
    "plot(pca)"
   ]
  },
  {
   "cell_type": "code",
   "execution_count": null,
   "metadata": {
    "collapsed": false
   },
   "outputs": [],
   "source": [
    "trn_preprocessed = predict(pca, train_normalized)\n",
    "tst_preprocessed = predict(pca, test_normalized)\n",
    "trn_in = trn_preprocessed\n",
    "tst_in = tst_preprocessed"
   ]
  },
  {
   "cell_type": "code",
   "execution_count": null,
   "metadata": {
    "collapsed": false
   },
   "outputs": [],
   "source": [
    "train_data = cbind(as.data.frame(trn_in), flooded = model_data[train_ind, out_col_name])\n",
    "fmla = as.formula(paste(out_col_name, \"~\", paste(colnames(trn_in), collapse=\"+\")))\n",
    "fmla"
   ]
  },
  {
   "cell_type": "markdown",
   "metadata": {},
   "source": [
    "### KNN"
   ]
  },
  {
   "cell_type": "code",
   "execution_count": null,
   "metadata": {
    "collapsed": false
   },
   "outputs": [],
   "source": [
    "kfit = knn(trn_in, tst_in, trn_out, k=5)\n",
    "table(tst_out, kfit)"
   ]
  },
  {
   "cell_type": "markdown",
   "metadata": {},
   "source": [
    "### SVM"
   ]
  },
  {
   "cell_type": "code",
   "execution_count": null,
   "metadata": {
    "collapsed": false
   },
   "outputs": [],
   "source": [
    "svm_fit = svm(fmla, data=train_data)\n",
    "svm_pred = predict(svm_fit, tst_in)\n",
    "table(tst_out, svm_pred)"
   ]
  },
  {
   "cell_type": "markdown",
   "metadata": {},
   "source": [
    "### Decision Trees"
   ]
  },
  {
   "cell_type": "code",
   "execution_count": 71,
   "metadata": {
    "collapsed": false
   },
   "outputs": [],
   "source": [
    "dt_fmla = as.formula(paste(out_col_name, \"~\", paste(in_col_names, collapse=\"+\")))\n",
    "dt_train_data = model_data[train_ind, ]\n",
    "dt_test_data = model_data[test_ind, in_col_names]"
   ]
  },
  {
   "cell_type": "code",
   "execution_count": 72,
   "metadata": {
    "collapsed": false
   },
   "outputs": [
    {
     "data": {
      "text/html": [
       "<ol class=list-inline>\n",
       "\t<li>'rain_daily_sum'</li>\n",
       "\t<li>'rain_hourly_max'</li>\n",
       "\t<li>'rain_15_min_max'</li>\n",
       "\t<li>'rain_prev_3_days'</li>\n",
       "\t<li>'gw_daily_avg'</li>\n",
       "\t<li>'tide_daily_avg'</li>\n",
       "\t<li>'wind_vel_daily_avg'</li>\n",
       "\t<li>'tide_r15mx'</li>\n",
       "\t<li>'tide_rhrmx'</li>\n",
       "\t<li>'imp'</li>\n",
       "\t<li>'twi'</li>\n",
       "\t<li>'dist_to_wa'</li>\n",
       "\t<li>'dist_to_ba'</li>\n",
       "\t<li>'Pipe_Geome'</li>\n",
       "\t<li>'Horizontal'</li>\n",
       "\t<li>'Invert_Ele'</li>\n",
       "\t<li>'Vertical_D'</li>\n",
       "\t<li>'Year_Insta'</li>\n",
       "\t<li>'Pipe_Lengt'</li>\n",
       "\t<li>'Rim_Elevat'</li>\n",
       "\t<li>'Structure1'</li>\n",
       "\t<li>'Year_Ins_1'</li>\n",
       "\t<li>'Year_Insta.1'</li>\n",
       "\t<li>'elev_1'</li>\n",
       "\t<li>'flooded'</li>\n",
       "\t<li>'Pipe_Mater'</li>\n",
       "</ol>\n"
      ],
      "text/latex": [
       "\\begin{enumerate*}\n",
       "\\item 'rain\\_daily\\_sum'\n",
       "\\item 'rain\\_hourly\\_max'\n",
       "\\item 'rain\\_15\\_min\\_max'\n",
       "\\item 'rain\\_prev\\_3\\_days'\n",
       "\\item 'gw\\_daily\\_avg'\n",
       "\\item 'tide\\_daily\\_avg'\n",
       "\\item 'wind\\_vel\\_daily\\_avg'\n",
       "\\item 'tide\\_r15mx'\n",
       "\\item 'tide\\_rhrmx'\n",
       "\\item 'imp'\n",
       "\\item 'twi'\n",
       "\\item 'dist\\_to\\_wa'\n",
       "\\item 'dist\\_to\\_ba'\n",
       "\\item 'Pipe\\_Geome'\n",
       "\\item 'Horizontal'\n",
       "\\item 'Invert\\_Ele'\n",
       "\\item 'Vertical\\_D'\n",
       "\\item 'Year\\_Insta'\n",
       "\\item 'Pipe\\_Lengt'\n",
       "\\item 'Rim\\_Elevat'\n",
       "\\item 'Structure1'\n",
       "\\item 'Year\\_Ins\\_1'\n",
       "\\item 'Year\\_Insta.1'\n",
       "\\item 'elev\\_1'\n",
       "\\item 'flooded'\n",
       "\\item 'Pipe\\_Mater'\n",
       "\\end{enumerate*}\n"
      ],
      "text/markdown": [
       "1. 'rain_daily_sum'\n",
       "2. 'rain_hourly_max'\n",
       "3. 'rain_15_min_max'\n",
       "4. 'rain_prev_3_days'\n",
       "5. 'gw_daily_avg'\n",
       "6. 'tide_daily_avg'\n",
       "7. 'wind_vel_daily_avg'\n",
       "8. 'tide_r15mx'\n",
       "9. 'tide_rhrmx'\n",
       "10. 'imp'\n",
       "11. 'twi'\n",
       "12. 'dist_to_wa'\n",
       "13. 'dist_to_ba'\n",
       "14. 'Pipe_Geome'\n",
       "15. 'Horizontal'\n",
       "16. 'Invert_Ele'\n",
       "17. 'Vertical_D'\n",
       "18. 'Year_Insta'\n",
       "19. 'Pipe_Lengt'\n",
       "20. 'Rim_Elevat'\n",
       "21. 'Structure1'\n",
       "22. 'Year_Ins_1'\n",
       "23. 'Year_Insta.1'\n",
       "24. 'elev_1'\n",
       "25. 'flooded'\n",
       "26. 'Pipe_Mater'\n",
       "\n",
       "\n"
      ],
      "text/plain": [
       " [1] \"rain_daily_sum\"     \"rain_hourly_max\"    \"rain_15_min_max\"   \n",
       " [4] \"rain_prev_3_days\"   \"gw_daily_avg\"       \"tide_daily_avg\"    \n",
       " [7] \"wind_vel_daily_avg\" \"tide_r15mx\"         \"tide_rhrmx\"        \n",
       "[10] \"imp\"                \"twi\"                \"dist_to_wa\"        \n",
       "[13] \"dist_to_ba\"         \"Pipe_Geome\"         \"Horizontal\"        \n",
       "[16] \"Invert_Ele\"         \"Vertical_D\"         \"Year_Insta\"        \n",
       "[19] \"Pipe_Lengt\"         \"Rim_Elevat\"         \"Structure1\"        \n",
       "[22] \"Year_Ins_1\"         \"Year_Insta.1\"       \"elev_1\"            \n",
       "[25] \"flooded\"            \"Pipe_Mater\"        "
      ]
     },
     "metadata": {},
     "output_type": "display_data"
    }
   ],
   "source": [
    "colnames(dt_train_data)"
   ]
  },
  {
   "cell_type": "code",
   "execution_count": 73,
   "metadata": {
    "collapsed": false
   },
   "outputs": [
    {
     "name": "stdout",
     "output_type": "stream",
     "text": [
      "\n",
      "Classification tree:\n",
      "rpart(formula = dt_fmla, data = dt_train_data, method = \"class\", \n",
      "    minsplit = 2)\n",
      "\n",
      "Variables actually used in tree construction:\n",
      "[1] gw_daily_avg     imp              rain_daily_sum   rain_prev_3_days\n",
      "[5] tide_rhrmx      \n",
      "\n",
      "Root node error: 82/823 = 0.099635\n",
      "\n",
      "n= 823 \n",
      "\n",
      "        CP nsplit rel error  xerror     xstd\n",
      "1 0.365854      0   1.00000 1.00000 0.104786\n",
      "2 0.219512      1   0.63415 0.64634 0.085876\n",
      "3 0.097561      2   0.41463 0.42683 0.070597\n",
      "4 0.073171      3   0.31707 0.36585 0.065567\n",
      "5 0.036585      4   0.24390 0.25610 0.055167\n",
      "6 0.012195      5   0.20732 0.25610 0.055167\n",
      "7 0.010000      7   0.18293 0.25610 0.055167\n"
     ]
    }
   ],
   "source": [
    "fit = rpart(dt_fmla, method='class', data=dt_train_data, minsplit=2)\n",
    "printcp(fit)"
   ]
  },
  {
   "cell_type": "code",
   "execution_count": 74,
   "metadata": {
    "collapsed": false
   },
   "outputs": [
    {
     "data": {
      "text/html": [
       "<strong>png:</strong> 2"
      ],
      "text/latex": [
       "\\textbf{png:} 2"
      ],
      "text/markdown": [
       "**png:** 2"
      ],
      "text/plain": [
       "png \n",
       "  2 "
      ]
     },
     "metadata": {},
     "output_type": "display_data"
    },
    {
     "data": {
      "image/png": "[encoded data removed]",
      "text/plain": [
       "plot without title"
      ]
     },
     "metadata": {},
     "output_type": "display_data"
    }
   ],
   "source": [
    "tiff(paste(fig_dir, \"Plot2.tif\"), width=9, height=6, units='in', res = 300)\n",
    "rpart.plot(fit, under=TRUE, cex=0.9, extra=1, varlen = 6)\n",
    "dev.off()\n",
    "rpart.plot(fit, under=TRUE, cex=0.9, extra=1, varlen = 6)"
   ]
  },
  {
   "cell_type": "code",
   "execution_count": 75,
   "metadata": {
    "collapsed": false
   },
   "outputs": [
    {
     "data": {
      "image/png": "[encoded data removed]",
      "text/plain": [
       "plot without title"
      ]
     },
     "metadata": {},
     "output_type": "display_data"
    }
   ],
   "source": [
    "pfit<- prune(fit, cp=fit$cptable[which.min(fit$cptable[,\"xerror\"]),\"CP\"])\n",
    "rpart.plot(pfit, under=TRUE, cex=0.9, extra=1, varlen = 6)"
   ]
  },
  {
   "cell_type": "markdown",
   "metadata": {},
   "source": [
    "#### Decision Tree training results"
   ]
  },
  {
   "cell_type": "code",
   "execution_count": 76,
   "metadata": {
    "collapsed": false
   },
   "outputs": [
    {
     "data": {
      "text/plain": [
       "       pred\n",
       "trn_out FALSE TRUE\n",
       "  FALSE   735    6\n",
       "  TRUE     14   68"
      ]
     },
     "metadata": {},
     "output_type": "display_data"
    }
   ],
   "source": [
    "pred = predict(pfit, dt_train_data[, in_col_names], type = 'class')\n",
    "table(trn_out, pred)"
   ]
  },
  {
   "cell_type": "markdown",
   "metadata": {},
   "source": [
    "#### Decision Tree testing results"
   ]
  },
  {
   "cell_type": "code",
   "execution_count": 77,
   "metadata": {
    "collapsed": false
   },
   "outputs": [
    {
     "data": {
      "text/plain": [
       "       pred\n",
       "tst_out FALSE  TRUE\n",
       "  FALSE 52218   764\n",
       "  TRUE     11    24"
      ]
     },
     "metadata": {},
     "output_type": "display_data"
    }
   ],
   "source": [
    "pred = predict(pfit, dt_test_data, type = 'class')\n",
    "table(tst_out, pred)"
   ]
  },
  {
   "cell_type": "markdown",
   "metadata": {},
   "source": [
    "### Random Forests"
   ]
  },
  {
   "cell_type": "code",
   "execution_count": 78,
   "metadata": {
    "collapsed": false
   },
   "outputs": [
    {
     "data": {
      "text/plain": [
       "       pred\n",
       "trn_out FALSE TRUE\n",
       "  FALSE   741    0\n",
       "  TRUE      0   82"
      ]
     },
     "metadata": {},
     "output_type": "display_data"
    }
   ],
   "source": [
    "forest = randomForest(dt_fmla, data = dt_train_data, importance = TRUE, type=\"classification\", nodesize=2)\n",
    "\n",
    "pred = predict(forest, dt_train_data[, in_col_names])\n",
    "table(trn_out, pred)"
   ]
  },
  {
   "cell_type": "code",
   "execution_count": 79,
   "metadata": {
    "collapsed": false,
    "scrolled": false
   },
   "outputs": [
    {
     "data": {
      "text/plain": [
       "       pred\n",
       "tst_out FALSE  TRUE\n",
       "  FALSE 52476   506\n",
       "  TRUE      8    27"
      ]
     },
     "metadata": {},
     "output_type": "display_data"
    },
    {
     "data": {
      "image/png": "[encoded data removed]",
      "text/plain": [
       "plot without title"
      ]
     },
     "metadata": {},
     "output_type": "display_data"
    }
   ],
   "source": [
    "pred = predict(forest, dt_test_data)\n",
    "table(tst_out, pred)\n",
    "impo = as.data.frame(forest$importance)\n",
    "impo = impo[order(-impo$MeanDecreaseGini),]\n",
    "par(las=2)\n",
    "barplot(impo$MeanDecreaseGini, names.arg=rownames(impo), ylim = c(0, 70))"
   ]
  },
  {
   "cell_type": "markdown",
   "metadata": {
    "collapsed": true
   },
   "source": [
    "### Logistic Regression"
   ]
  },
  {
   "cell_type": "code",
   "execution_count": null,
   "metadata": {
    "collapsed": false
   },
   "outputs": [],
   "source": [
    "lo_fit = glm(fmla, family=binomial(link='logit'), data=train_data)\n",
    "print(lo_fit)"
   ]
  },
  {
   "cell_type": "code",
   "execution_count": null,
   "metadata": {
    "collapsed": false
   },
   "outputs": [],
   "source": [
    "pred = predict(lo_fit, as.data.frame(tst_in), type=\"response\")\n",
    "table(tst_out, round(pred)>0)"
   ]
  },
  {
   "cell_type": "code",
   "execution_count": null,
   "metadata": {
    "collapsed": true
   },
   "outputs": [],
   "source": []
  }
 ],
 "metadata": {
  "kernelspec": {
   "display_name": "R",
   "language": "R",
   "name": "ir"
  },
  "language_info": {
   "codemirror_mode": "r",
   "file_extension": ".r",
   "mimetype": "text/x-r-source",
   "name": "R",
   "pygments_lexer": "r",
   "version": "3.3.2"
  }
 },
 "nbformat": 4,
 "nbformat_minor": 2
}
